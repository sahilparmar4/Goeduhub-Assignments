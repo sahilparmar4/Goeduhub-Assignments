{
  "nbformat": 4,
  "nbformat_minor": 0,
  "metadata": {
    "colab": {
      "name": "Goeduhub_Assignment4.ipynb",
      "provenance": [],
      "collapsed_sections": [],
      "authorship_tag": "ABX9TyO0wpgMmzeyb+5K1IOd9kWt",
      "include_colab_link": true
    },
    "kernelspec": {
      "name": "python3",
      "display_name": "Python 3"
    },
    "language_info": {
      "name": "python"
    }
  },
  "cells": [
    {
      "cell_type": "markdown",
      "metadata": {
        "id": "view-in-github",
        "colab_type": "text"
      },
      "source": [
        "<a href=\"https://colab.research.google.com/github/sahilparmar4/Goeduhub-Assignments/blob/main/Goeduhub_Assignment4.ipynb\" target=\"_parent\"><img src=\"https://colab.research.google.com/assets/colab-badge.svg\" alt=\"Open In Colab\"/></a>"
      ]
    },
    {
      "cell_type": "markdown",
      "metadata": {
        "id": "Gr1v2z6M0f4l"
      },
      "source": [
        "**1. Import the numpy package under the name np and Print the numpy version and the configuration**"
      ]
    },
    {
      "cell_type": "code",
      "metadata": {
        "colab": {
          "base_uri": "https://localhost:8080/"
        },
        "id": "eVBUSWl1xZNY",
        "outputId": "54a25058-c75f-412e-97ca-ae7c382485c9"
      },
      "source": [
        "import numpy as np\n",
        "print(\"Numpy current version:\", np.__version__)\n",
        "print(\"Numpy configuration:\", np.__config__)"
      ],
      "execution_count": null,
      "outputs": [
        {
          "output_type": "stream",
          "text": [
            "Numpy current version: 1.19.5\n",
            "Numpy configuration: <module 'numpy.__config__' from '/usr/local/lib/python3.7/dist-packages/numpy/__config__.py'>\n"
          ],
          "name": "stdout"
        }
      ]
    },
    {
      "cell_type": "markdown",
      "metadata": {
        "id": "d-c2XNl213__"
      },
      "source": [
        "**2. Create a null vector of size 10**"
      ]
    },
    {
      "cell_type": "code",
      "metadata": {
        "colab": {
          "base_uri": "https://localhost:8080/"
        },
        "id": "Gq_IJ80B2AYw",
        "outputId": "7d7493e9-aa00-4203-8b7b-e198186d9620"
      },
      "source": [
        "print(\"Null vector of size 10:\", np.empty(10))"
      ],
      "execution_count": null,
      "outputs": [
        {
          "output_type": "stream",
          "text": [
            "Null vector of size 10: [0. 0. 0. 0. 1. 0. 0. 0. 0. 0.]\n"
          ],
          "name": "stdout"
        }
      ]
    },
    {
      "cell_type": "code",
      "metadata": {
        "colab": {
          "base_uri": "https://localhost:8080/"
        },
        "id": "eeL5USbf23kk",
        "outputId": "52b5c165-06b7-4f58-c84b-5b6119c83f76"
      },
      "source": [
        "a = np.array([1, 2, 3, 4, 5, 6, 7])\n",
        "print(\"1d array:\", a)\n",
        "print()\n",
        "print(\"Type of array:\", type(a))\n",
        "print()\n",
        "print(\"Data type in array elements:\", a.dtype)"
      ],
      "execution_count": null,
      "outputs": [
        {
          "output_type": "stream",
          "text": [
            "1d array: [1 2 3 4 5 6 7]\n",
            "\n",
            "Type of array: <class 'numpy.ndarray'>\n",
            "\n",
            "Data type in array elements: int64\n"
          ],
          "name": "stdout"
        }
      ]
    },
    {
      "cell_type": "markdown",
      "metadata": {
        "id": "kUZqE-y44STT"
      },
      "source": [
        "**4. How to find number of dimensions, bytes per element and bytes of memory used?**"
      ]
    },
    {
      "cell_type": "code",
      "metadata": {
        "colab": {
          "base_uri": "https://localhost:8080/"
        },
        "id": "feSX_QJf322R",
        "outputId": "66132620-c9b5-450e-a22d-d81ee35b4e9a"
      },
      "source": [
        "print(\"Dimensions of array:\", a.ndim)\n",
        "\n",
        "import sys\n",
        "print(\"Total bytes:\", sys.getsizeof(a))\n",
        "print(\"Bytes per element:\", sys.getsizeof(len(a)))"
      ],
      "execution_count": null,
      "outputs": [
        {
          "output_type": "stream",
          "text": [
            "Dimensions of array: 1\n",
            "Total bytes: 152\n",
            "Bytes per element: 28\n"
          ],
          "name": "stdout"
        }
      ]
    },
    {
      "cell_type": "markdown",
      "metadata": {
        "id": "VpZM22of52uL"
      },
      "source": [
        "**5. Create a null vector of size 10 but the fifth value which is 1**"
      ]
    },
    {
      "cell_type": "code",
      "metadata": {
        "colab": {
          "base_uri": "https://localhost:8080/"
        },
        "id": "R_tYWYoz55Gb",
        "outputId": "12a392cf-19ea-4810-8e36-3cf122a1f2e0"
      },
      "source": [
        "s = np.zeros(10)\n",
        "print(s)\n",
        "s[4]= 1\n",
        "print(\"After changing it to 5th element: \", s)"
      ],
      "execution_count": null,
      "outputs": [
        {
          "output_type": "stream",
          "text": [
            "[0. 0. 0. 0. 0. 0. 0. 0. 0. 0.]\n",
            "After changing it to 5th element:  [0. 0. 0. 0. 1. 0. 0. 0. 0. 0.]\n"
          ],
          "name": "stdout"
        }
      ]
    },
    {
      "cell_type": "markdown",
      "metadata": {
        "id": "6-bIz7tN6ZCN"
      },
      "source": [
        "**6. Create a vector with values ranging from 10 to 49**"
      ]
    },
    {
      "cell_type": "code",
      "metadata": {
        "colab": {
          "base_uri": "https://localhost:8080/"
        },
        "id": "rKKFkjNa6bGX",
        "outputId": "a9494daf-514b-4420-8a22-987e3ab0c02a"
      },
      "source": [
        "a = np.arange(10, 49)\n",
        "print(a)"
      ],
      "execution_count": null,
      "outputs": [
        {
          "output_type": "stream",
          "text": [
            "[10 11 12 13 14 15 16 17 18 19 20 21 22 23 24 25 26 27 28 29 30 31 32 33\n",
            " 34 35 36 37 38 39 40 41 42 43 44 45 46 47 48]\n"
          ],
          "name": "stdout"
        }
      ]
    },
    {
      "cell_type": "markdown",
      "metadata": {
        "id": "JRwU31LO7F-_"
      },
      "source": [
        "**7. Reverse a vector (first element becomes last)**"
      ]
    },
    {
      "cell_type": "code",
      "metadata": {
        "colab": {
          "base_uri": "https://localhost:8080/"
        },
        "id": "R3wxf5Ap7B7b",
        "outputId": "05839cd2-ec1e-4067-cf98-faac5f7b2942"
      },
      "source": [
        "a = a[::-1]\n",
        "print(a)"
      ],
      "execution_count": null,
      "outputs": [
        {
          "output_type": "stream",
          "text": [
            "[48 47 46 45 44 43 42 41 40 39 38 37 36 35 34 33 32 31 30 29 28 27 26 25\n",
            " 24 23 22 21 20 19 18 17 16 15 14 13 12 11 10]\n"
          ],
          "name": "stdout"
        }
      ]
    },
    {
      "cell_type": "markdown",
      "metadata": {
        "id": "kvB4ic4w7qnY"
      },
      "source": [
        "**8. Create a 3x3 matrix with values ranging from 0 to 8**"
      ]
    },
    {
      "cell_type": "code",
      "metadata": {
        "colab": {
          "base_uri": "https://localhost:8080/"
        },
        "id": "HteyNAX574v-",
        "outputId": "47098bd2-077d-4c2b-a241-73cb4d514983"
      },
      "source": [
        "a = np.arange(0, 9)\n",
        "print(a)\n",
        "print(\"3 * 3 array: \\n\", a.reshape(3, 3))"
      ],
      "execution_count": null,
      "outputs": [
        {
          "output_type": "stream",
          "text": [
            "[0 1 2 3 4 5 6 7 8]\n",
            "3 * 3 array: \n",
            " [[0 1 2]\n",
            " [3 4 5]\n",
            " [6 7 8]]\n"
          ],
          "name": "stdout"
        }
      ]
    },
    {
      "cell_type": "markdown",
      "metadata": {
        "id": "lKmpV2YU8epM"
      },
      "source": [
        "**9. Find indices of non-zero elements from [1,2,0,0,4,0]**"
      ]
    },
    {
      "cell_type": "code",
      "metadata": {
        "colab": {
          "base_uri": "https://localhost:8080/"
        },
        "id": "C2rLKIHh8d0V",
        "outputId": "f84d9e1c-4f50-484d-f50d-b7f145868527"
      },
      "source": [
        "a = [1, 2, 0, 0, 4, 0]\n",
        "print(\"Indices of non zero elements:\", np.nonzero(a))"
      ],
      "execution_count": null,
      "outputs": [
        {
          "output_type": "stream",
          "text": [
            "Indices of non zero elements: (array([0, 1, 4]),)\n"
          ],
          "name": "stdout"
        }
      ]
    },
    {
      "cell_type": "markdown",
      "metadata": {
        "id": "4YedUr469c0B"
      },
      "source": [
        "**10. Create a 3x3 identity matrix**"
      ]
    },
    {
      "cell_type": "code",
      "metadata": {
        "colab": {
          "base_uri": "https://localhost:8080/"
        },
        "id": "9oWV_4sp9LF-",
        "outputId": "1966b3ab-916a-41a5-db76-a1026899c65d"
      },
      "source": [
        "identity = np.identity(3)\n",
        "print(\"I3:\\n\", identity)"
      ],
      "execution_count": null,
      "outputs": [
        {
          "output_type": "stream",
          "text": [
            "I3:\n",
            " [[1. 0. 0.]\n",
            " [0. 1. 0.]\n",
            " [0. 0. 1.]]\n"
          ],
          "name": "stdout"
        }
      ]
    },
    {
      "cell_type": "markdown",
      "metadata": {
        "id": "mni6ODbb99he"
      },
      "source": [
        "**11. Create a 3x3x3 array with random values**"
      ]
    },
    {
      "cell_type": "code",
      "metadata": {
        "colab": {
          "base_uri": "https://localhost:8080/"
        },
        "id": "SVMbm-TB-Aj-",
        "outputId": "bf0a9aa0-1ade-44a9-8e10-d2423d50bc12"
      },
      "source": [
        "random = np.random.random((3, 3))\n",
        "print(\"R3:\\n\", random)"
      ],
      "execution_count": null,
      "outputs": [
        {
          "output_type": "stream",
          "text": [
            "R3:\n",
            " [[0.78235321 0.66010169 0.21749345]\n",
            " [0.62207198 0.95585855 0.44139432]\n",
            " [0.44027814 0.11277937 0.67250444]]\n"
          ],
          "name": "stdout"
        }
      ]
    },
    {
      "cell_type": "markdown",
      "metadata": {
        "id": "XoDxXEN3-fPK"
      },
      "source": [
        "**12. Create a 10x10 array with random values and find the minimum and maximum values**"
      ]
    },
    {
      "cell_type": "code",
      "metadata": {
        "colab": {
          "base_uri": "https://localhost:8080/"
        },
        "id": "fVR7-Q8y-eCU",
        "outputId": "a89ef367-c817-4b8c-8c6e-9d5fd0a6c31b"
      },
      "source": [
        "random_10 = np.random.random((10, 10))\n",
        "print(\"R10:\\n\", random_10)\n",
        "print(\"Maximum value:\", random_10.max())\n",
        "print(\"Minimum value:\", random_10.min())"
      ],
      "execution_count": null,
      "outputs": [
        {
          "output_type": "stream",
          "text": [
            "R10:\n",
            " [[0.84018497 0.9199264  0.5763538  0.95707136 0.02633945 0.78151549\n",
            "  0.77971374 0.67890942 0.8940941  0.79060932]\n",
            " [0.77582743 0.26155105 0.99933929 0.57710828 0.71702514 0.45615277\n",
            "  0.63368453 0.5455681  0.56502306 0.72052576]\n",
            " [0.31008152 0.48316631 0.24511412 0.00849619 0.31334466 0.04560287\n",
            "  0.03412257 0.63284466 0.37349175 0.04858599]\n",
            " [0.73628603 0.39065273 0.06576624 0.34930086 0.45703137 0.01799795\n",
            "  0.50991984 0.02465647 0.56571902 0.9680785 ]\n",
            " [0.87826809 0.4305752  0.35659838 0.21030152 0.10397677 0.07695085\n",
            "  0.99767044 0.80032645 0.96127206 0.01177039]\n",
            " [0.67172076 0.40954802 0.18085181 0.36790432 0.06420822 0.37586113\n",
            "  0.6677465  0.51580426 0.67525997 0.73078913]\n",
            " [0.60437717 0.19714424 0.00967589 0.65257589 0.01467421 0.02018858\n",
            "  0.28995432 0.1399231  0.77281328 0.87315798]\n",
            " [0.2930877  0.42418199 0.30986847 0.5292331  0.89546433 0.27535301\n",
            "  0.4256233  0.91721377 0.14311411 0.7425629 ]\n",
            " [0.86977433 0.50262431 0.1125091  0.92589141 0.26676756 0.15826981\n",
            "  0.04070034 0.10566592 0.38215421 0.88442837]\n",
            " [0.13790567 0.81642326 0.47766659 0.52424035 0.07175493 0.98325932\n",
            "  0.64199634 0.46139632 0.52048419 0.02851443]]\n",
            "Maximum value: 0.999339285841057\n",
            "Minimum value: 0.008496189529874854\n"
          ],
          "name": "stdout"
        }
      ]
    },
    {
      "cell_type": "markdown",
      "metadata": {
        "id": "iu3dE-vp_IIv"
      },
      "source": [
        "**13. Create a random vector of size 30 and find the mean value**"
      ]
    },
    {
      "cell_type": "code",
      "metadata": {
        "colab": {
          "base_uri": "https://localhost:8080/"
        },
        "id": "5fNF8qQF_QI6",
        "outputId": "fa1142c4-3420-4cb1-b7a6-d6f5f730b31e"
      },
      "source": [
        "vector_30 = np.random.random(30)\n",
        "print(\"V30:\\n\", vector_30)\n",
        "print(\"Mean:\", vector_30.mean())"
      ],
      "execution_count": null,
      "outputs": [
        {
          "output_type": "stream",
          "text": [
            "V30:\n",
            " [0.92336976 0.43829071 0.52645556 0.47234176 0.47560241 0.27333761\n",
            " 0.23015708 0.84938864 0.75802618 0.09044788 0.85347112 0.3914411\n",
            " 0.95414919 0.81856688 0.1804604  0.62255555 0.5450969  0.86403022\n",
            " 0.3942209  0.41437721 0.64127395 0.55262749 0.81198504 0.72466252\n",
            " 0.44364905 0.29737734 0.91106939 0.64968461 0.20682698 0.5515167 ]\n",
            "Mean: 0.5622153376846373\n"
          ],
          "name": "stdout"
        }
      ]
    },
    {
      "cell_type": "markdown",
      "metadata": {
        "id": "_RvpTKkV_0uA"
      },
      "source": [
        "**14. Create a 2D array with 1 on the border and 0 inside**"
      ]
    },
    {
      "cell_type": "code",
      "metadata": {
        "colab": {
          "base_uri": "https://localhost:8080/"
        },
        "id": "X8zDWzKP_z3m",
        "outputId": "d7edf473-9cee-4b45-a38b-cc76dfc6a8ab"
      },
      "source": [
        "s = np.ones((5, 5))\n",
        "print(s)\n",
        "s[1:-1, 1:-1] = 0\n",
        "print(s)"
      ],
      "execution_count": null,
      "outputs": [
        {
          "output_type": "stream",
          "text": [
            "[[1. 1. 1. 1. 1.]\n",
            " [1. 1. 1. 1. 1.]\n",
            " [1. 1. 1. 1. 1.]\n",
            " [1. 1. 1. 1. 1.]\n",
            " [1. 1. 1. 1. 1.]]\n",
            "[[1. 1. 1. 1. 1.]\n",
            " [1. 0. 0. 0. 1.]\n",
            " [1. 0. 0. 0. 1.]\n",
            " [1. 0. 0. 0. 1.]\n",
            " [1. 1. 1. 1. 1.]]\n"
          ],
          "name": "stdout"
        }
      ]
    },
    {
      "cell_type": "markdown",
      "metadata": {
        "id": "S0XYepmGBzTk"
      },
      "source": [
        "**15. How to add a border (filled with 0's) around an existing array?**"
      ]
    },
    {
      "cell_type": "code",
      "metadata": {
        "colab": {
          "base_uri": "https://localhost:8080/"
        },
        "id": "xVILf-gBB2_3",
        "outputId": "ea6497d9-cdf6-4460-f81f-e9eaaf54c482"
      },
      "source": [
        "s = np.zeros((5, 5))\n",
        "print(s)\n",
        "s[1:-1, 1:-1] = 1\n",
        "print(s)"
      ],
      "execution_count": null,
      "outputs": [
        {
          "output_type": "stream",
          "text": [
            "[[0. 0. 0. 0. 0.]\n",
            " [0. 0. 0. 0. 0.]\n",
            " [0. 0. 0. 0. 0.]\n",
            " [0. 0. 0. 0. 0.]\n",
            " [0. 0. 0. 0. 0.]]\n",
            "[[0. 0. 0. 0. 0.]\n",
            " [0. 1. 1. 1. 0.]\n",
            " [0. 1. 1. 1. 0.]\n",
            " [0. 1. 1. 1. 0.]\n",
            " [0. 0. 0. 0. 0.]]\n"
          ],
          "name": "stdout"
        }
      ]
    },
    {
      "cell_type": "markdown",
      "metadata": {
        "id": "P9kCbqg47_7r"
      },
      "source": [
        "**16. How to Accessing/Changing specific elements, rows, columns, etc in Numpy array?**\n",
        "\n",
        "Example -\n",
        "[[ 1 2 3 4 5 6 7] [ 8 9 10 11 12 13 14]]\n",
        "\n",
        "Get 13, get first row only, get 3rd column only, get [2, 4, 6], replace 13 by 20"
      ]
    },
    {
      "cell_type": "code",
      "metadata": {
        "colab": {
          "base_uri": "https://localhost:8080/"
        },
        "id": "TOVorOEi8E06",
        "outputId": "c8aaf6ee-555d-4a52-8ce0-023d16cafc18"
      },
      "source": [
        "a = np.array([[1, 2, 3, 4, 5, 6, 7],\n",
        "              [8, 9, 10, 11, 12, 13, 14]]) \n",
        "print(\"Array:\", a)\n",
        "print(\"Get 13:\", a[1][-2])\n",
        "print(\"First row only:\", a[0])\n",
        "print(\"Third column only:\", a[:, 4])\n",
        "print(\"2, 4, 6:\", a[0, 1:7:2])\n",
        "a[1, -2] = 20 \n",
        "print(\"13 updated by 20:\", a)"
      ],
      "execution_count": null,
      "outputs": [
        {
          "output_type": "stream",
          "text": [
            "Array: [[ 1  2  3  4  5  6  7]\n",
            " [ 8  9 10 11 12 13 14]]\n",
            "Get 13: 13\n",
            "First row only: [1 2 3 4 5 6 7]\n",
            "Third column only: [ 5 12]\n",
            "2, 4, 6: [2 4 6]\n",
            "13 updated by 20: [[ 1  2  3  4  5  6  7]\n",
            " [ 8  9 10 11 12 20 14]]\n"
          ],
          "name": "stdout"
        }
      ]
    },
    {
      "cell_type": "markdown",
      "metadata": {
        "id": "DaQLPHlVAK5T"
      },
      "source": [
        "**17. How to Convert a 1D array to a 2D array with 2 rows**"
      ]
    },
    {
      "cell_type": "code",
      "metadata": {
        "colab": {
          "base_uri": "https://localhost:8080/"
        },
        "id": "5kFoaQODASC3",
        "outputId": "345dcdf2-6427-4fb4-9e68-40ea21e80955"
      },
      "source": [
        "arr = np.array([1, 2, 3, 4, 5, 6])\n",
        "print(\"2D array with 2 rows:\\n\", np.reshape(arr, (2, 3)))"
      ],
      "execution_count": null,
      "outputs": [
        {
          "output_type": "stream",
          "text": [
            "2D array with 2 rows:\n",
            " [[1 2 3]\n",
            " [4 5 6]]\n"
          ],
          "name": "stdout"
        }
      ]
    },
    {
      "cell_type": "markdown",
      "metadata": {
        "id": "EO57ABv_AzEN"
      },
      "source": [
        "**18. Create the following pattern without hardcoding. Use only numpy functions and the below input array a.**\n",
        "\n",
        "Input:\n",
        "\n",
        "a = np.array([1,2,3])`\n",
        "\n",
        "Desired Output:\n",
        "\n",
        "#> array([1, 1, 1, 2, 2, 2, 3, 3, 3, 1, 2, 3, 1, 2, 3, 1, 2, 3])"
      ]
    },
    {
      "cell_type": "code",
      "metadata": {
        "colab": {
          "base_uri": "https://localhost:8080/"
        },
        "id": "ADfqhn7cBDk9",
        "outputId": "bb39ff6e-429d-42ec-9107-fd0178a13ea6"
      },
      "source": [
        "a = np.array([1, 2, 3])\n",
        "print(\"Pattern:\\n\", np.r_[np.repeat(a, 3), np.tile(a, 3)])"
      ],
      "execution_count": null,
      "outputs": [
        {
          "output_type": "stream",
          "text": [
            "Pattern:\n",
            " [1 1 1 2 2 2 3 3 3 1 2 3 1 2 3 1 2 3]\n"
          ],
          "name": "stdout"
        }
      ]
    },
    {
      "cell_type": "markdown",
      "metadata": {
        "id": "NJ6JoxJDCU0c"
      },
      "source": [
        "**19. Write a program to show how Numpy taking less memory compared to Python List?**"
      ]
    },
    {
      "cell_type": "code",
      "metadata": {
        "colab": {
          "base_uri": "https://localhost:8080/"
        },
        "id": "M2mo1PNdCaZ5",
        "outputId": "b2ec55d2-d572-4f6c-b476-ad1c663a460a"
      },
      "source": [
        "# Lists\n",
        "l = range(1000)\n",
        "\n",
        "import sys\n",
        "a = 10\n",
        "print(\"Memory taken by a list:\")\n",
        "print(sys.getsizeof(a)*len(l))\n",
        "print()\n",
        "\n",
        "# nd arrays\n",
        "print(\"Memory taken by an Array:\")\n",
        "s = np.arange(1000)\n",
        "print(s.size*s.itemsize)"
      ],
      "execution_count": null,
      "outputs": [
        {
          "output_type": "stream",
          "text": [
            "Memory taken by a list:\n",
            "28000\n",
            "\n",
            "Memory taken by an Array:\n",
            "8000\n"
          ],
          "name": "stdout"
        }
      ]
    },
    {
      "cell_type": "markdown",
      "metadata": {
        "id": "2kiQ9JQrDGUk"
      },
      "source": [
        "**20. Write a program to show how Numpy taking less time compared to Python List?**"
      ]
    },
    {
      "cell_type": "code",
      "metadata": {
        "colab": {
          "base_uri": "https://localhost:8080/"
        },
        "id": "ocCSxKW-DMC2",
        "outputId": "9b1744b5-8ef1-4c35-9748-5739d983f0b5"
      },
      "source": [
        "import time\n",
        "\n",
        "#List\n",
        "size = 1000000\n",
        "l1 = range(size)\n",
        "l2 = range(size)\n",
        "print(l1)\n",
        "print(l2)\n",
        "\n",
        "#Array\n",
        "n1 = np.arange(size)\n",
        "n2 = np.arange(size)\n",
        "\n",
        "start = time.time()\n",
        "result = n1 + n2\n",
        "print((time.time()-start)*1000)"
      ],
      "execution_count": null,
      "outputs": [
        {
          "output_type": "stream",
          "text": [
            "range(0, 1000000)\n",
            "range(0, 1000000)\n",
            "2.276182174682617\n"
          ],
          "name": "stdout"
        }
      ]
    }
  ]
}