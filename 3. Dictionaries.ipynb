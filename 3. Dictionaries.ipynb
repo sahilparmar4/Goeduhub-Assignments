{
  "nbformat": 4,
  "nbformat_minor": 0,
  "metadata": {
    "colab": {
      "name": "Goeduhub_Assignment3.ipynb",
      "provenance": [],
      "authorship_tag": "ABX9TyMsb3APIJJlKP0uUjhr6Bui",
      "include_colab_link": true
    },
    "kernelspec": {
      "name": "python3",
      "display_name": "Python 3"
    },
    "language_info": {
      "name": "python"
    }
  },
  "cells": [
    {
      "cell_type": "markdown",
      "metadata": {
        "id": "view-in-github",
        "colab_type": "text"
      },
      "source": [
        "<a href=\"https://colab.research.google.com/github/sahilparmar4/Goeduhub-Assignments/blob/main/Goeduhub_Assignment3.ipynb\" target=\"_parent\"><img src=\"https://colab.research.google.com/assets/colab-badge.svg\" alt=\"Open In Colab\"/></a>"
      ]
    },
    {
      "cell_type": "markdown",
      "metadata": {
        "id": "qOdoBmRTmIRc"
      },
      "source": [
        "**1. Write a Python Program to sort (ascending and descending) a dictionary by value**"
      ]
    },
    {
      "cell_type": "code",
      "metadata": {
        "colab": {
          "base_uri": "https://localhost:8080/"
        },
        "id": "I8jLYB3_mC9-",
        "outputId": "f135ce43-c133-419c-ad62-8131340e7ee1"
      },
      "source": [
        "import operator\n",
        "d = {1: 2, 3: 4, 4: 3, 2: 1, 0: 0}\n",
        "\n",
        "# ascending order\n",
        "sorted_d = sorted(d.items(), key=operator.itemgetter(1))\n",
        "print('Dictionary in ascending order by value :', sorted_d)"
      ],
      "execution_count": null,
      "outputs": [
        {
          "output_type": "stream",
          "text": [
            "Dictionary in ascending order by value :  [(0, 0), (2, 1), (1, 2), (4, 3), (3, 4)]\n"
          ],
          "name": "stdout"
        }
      ]
    },
    {
      "cell_type": "code",
      "metadata": {
        "colab": {
          "base_uri": "https://localhost:8080/"
        },
        "id": "5Ke6jfgknH77",
        "outputId": "43e2c431-ecc1-4cef-d7ab-ecf9f09dba23"
      },
      "source": [
        "# descending order\n",
        "sorted_d = dict( sorted(d.items(), key=operator.itemgetter(1),reverse=True))\n",
        "print('Dictionary in descending order by value : ',sorted_d)"
      ],
      "execution_count": null,
      "outputs": [
        {
          "output_type": "stream",
          "text": [
            "Dictionary in descending order by value :  {3: 4, 4: 3, 1: 2, 2: 1, 0: 0}\n"
          ],
          "name": "stdout"
        }
      ]
    },
    {
      "cell_type": "markdown",
      "metadata": {
        "id": "q69qpmlPnnK-"
      },
      "source": [
        "**2. Write a Python Program to add a key to a dictionary.**\n",
        "\n",
        "Sample Dictionary : {0: 10, 1: 20}\n",
        "Expected Result : {0: 10, 1: 20, 2: 30}\n"
      ]
    },
    {
      "cell_type": "code",
      "metadata": {
        "colab": {
          "base_uri": "https://localhost:8080/"
        },
        "id": "WiGl8LRrnsR8",
        "outputId": "f62dda52-a6c2-450d-f4a0-f4d734b3487d"
      },
      "source": [
        "d = {0: 10, 1: 20}\n",
        "d.update({2: 30})\n",
        "print(\"Updated dictionary:\", d)"
      ],
      "execution_count": null,
      "outputs": [
        {
          "output_type": "stream",
          "text": [
            "Updated dictionary: {0: 10, 1: 20, 2: 30}\n"
          ],
          "name": "stdout"
        }
      ]
    },
    {
      "cell_type": "markdown",
      "metadata": {
        "id": "dhxmvs9ioQ--"
      },
      "source": [
        "**3. Write a  program asks for City name and Temperature and builds a dictionary using that Later on you can input City name and it will tell you the Temperature of that City.**"
      ]
    },
    {
      "cell_type": "code",
      "metadata": {
        "colab": {
          "base_uri": "https://localhost:8080/"
        },
        "id": "n3ZnI746oYbE",
        "outputId": "b0f1b640-6911-4f38-af70-248656ca1100"
      },
      "source": [
        "city1 = input(\"Enter city name: \")\n",
        "temp1 = float(input(\"Enter the temperature in celcius: \"))\n",
        "\n",
        "city2 = input(\"Enter city name: \")\n",
        "temp2 = float(input(\"Enter the temperature in celcius: \"))\n",
        "\n",
        "city3 = input(\"Enter city name: \")\n",
        "temp3 = float(input(\"Enter the temperature in celcius: \"))\n",
        "\n",
        "cities = [city1, city2, city3]\n",
        "temperature = [temp1, temp2, temp3]\n",
        "\n",
        "dictinoary = dict(zip(cities, temperature))\n",
        "print(dictinoary)\n",
        "\n",
        "ask = input(\"Temperature of which city you want to know? \")\n",
        "print(\"Temperature of\", ask, \"is\", dictinoary[ask])"
      ],
      "execution_count": null,
      "outputs": [
        {
          "output_type": "stream",
          "text": [
            "Enter city name: Ahmedabad\n",
            "Enter the temperature in celcius: 25.8\n",
            "Enter city name: Delhi\n",
            "Enter the temperature in celcius: 24.5\n",
            "Enter city name: Mumbai\n",
            "Enter the temperature in celcius: 32.0\n",
            "{'Ahmedabad': 25.8, 'Delhi': 24.5, 'Mumbai': 32.0}\n",
            "Temperature of which city you want to know? Ahmedabad\n",
            "Temperature of Ahmedabad is 25.8\n"
          ],
          "name": "stdout"
        }
      ]
    },
    {
      "cell_type": "markdown",
      "metadata": {
        "id": "NFF1lwp4rysu"
      },
      "source": [
        "**4 Write a Python program to convert list to list of dictionaries.**\n",
        "\n",
        "Sample lists: [\"Black\", \"Red\", \"Maroon\", \"Yellow\"], [\"#000000\", \"#FF0000\", \"#800000\", \"#FFFF00\"]\n",
        "\n",
        "Expected Output: [{'color_name': 'Black', 'color_code': '#000000'}, {'color_name': 'Red', 'color_code': '#FF0000'}, {'color_name': 'Maroon', 'color_code': '#800000'}, {'color_name': 'Yellow', 'color_code': '#FFFF00'}]"
      ]
    },
    {
      "cell_type": "code",
      "metadata": {
        "colab": {
          "base_uri": "https://localhost:8080/"
        },
        "id": "q4BiFSNpsALx",
        "outputId": "fab98f15-e223-4f38-e916-68f6824c04b7"
      },
      "source": [
        "color_name = [\"Black\", \"Red\", \"Maroon\", \"Yellow\"]\n",
        "color_code = [\"#000000\", \"#FF0000\", \"#800000\", \"#FFFF00\"]\n",
        "print([{\"color_name\": a, \"color_code\": b} for a, b in zip(color_name, color_code)])"
      ],
      "execution_count": null,
      "outputs": [
        {
          "output_type": "stream",
          "text": [
            "[{'color_name': 'Black', 'color_code': '#000000'}, {'color_name': 'Red', 'color_code': '#FF0000'}, {'color_name': 'Maroon', 'color_code': '#800000'}, {'color_name': 'Yellow', 'color_code': '#FFFF00'}]\n"
          ],
          "name": "stdout"
        }
      ]
    },
    {
      "cell_type": "markdown",
      "metadata": {
        "id": "nLJ7KdbJtLKn"
      },
      "source": [
        "**5 We have following information on Employees and their Salary (Salary is in lakhs)**\n",
        "\n",
        "Employee\tSalary\n",
        "\n",
        "\n",
        "John\t14\n",
        "\n",
        "Smith\t13\n",
        "\n",
        "Alice\t32\n",
        "\n",
        "Daneil\t21\n",
        "\n",
        "Using above create a dictionary of Employees and their Salary\n",
        "Write a program that asks user for three type of inputs,\n",
        "print: if user enter print then it should print all Employees with their Salary in this format,\n",
        "\n",
        "John ==>14\n",
        "\n",
        "Smith ==>13\n",
        "\n",
        "Alice ==>32\n",
        "\n",
        "Daneil ==>21\n",
        "\n",
        "add: if user input adds then it should further ask for an Employee name to add. If Employee already exists in our dataset then it should print that it exists and do nothing. If it doesn't then it asks for Salary and add that new Employee/Salary in our dictionary and print it.\n",
        "\n",
        "remove: when user inputs remove it should ask for an Employee to remove. If an Employee exists in our dictionary then remove it and print a new dictionary using format shown above in (a). Else print that Employee doesn't exist!\n",
        "query: on this again ask the user for which Employee he or she wants to query. When a user inputs that Employee it will print the Salary of that Employee.\n",
        "\n",
        "query: on this again ask the user for which Employee he or she wants to query. When a user inputs that Employee it will print the Salary of that Employee."
      ]
    },
    {
      "cell_type": "code",
      "metadata": {
        "colab": {
          "base_uri": "https://localhost:8080/"
        },
        "id": "gxyarv82tKmT",
        "outputId": "d92bb054-6c32-42dc-da57-72fd202e588a"
      },
      "source": [
        "employee = [\"John\", \"Smith\", \"Alice\", \"Daniel\"]\n",
        "salary = [14, 13, 32, 21]\n",
        "\n",
        "empl = ['John','Smith','Alice','Daniel']\n",
        "sal = [14, 13, 32, 21]\n",
        "\n",
        "inp= input(\"Enter your choice :print or add or remove or query: \")\n",
        "if inp == 'print':\n",
        "  Dict = dict(zip(empl, sal))\n",
        "  for a in Dict:\n",
        "    print(a,\"==>\",Dict[f\"{a}\"])\n",
        "\n",
        "elif inp == 'add':\n",
        "  emp= input(\"Enter the name of the Employee to be added: \")\n",
        "  if emp.title() in Dict.keys():\n",
        "    print(f\"{emp} name is already existing!\")\n",
        "  else:\n",
        "    salr = input(f\"Enter the salary of the {emp} \")\n",
        "    Dict.update({emp : salr})\n",
        "    print(Dict)\n",
        "\n",
        "elif inp == 'remove':\n",
        "  name = input(\"Enter the name of the employee to be removed? \")\n",
        "  if name in Dict:\n",
        "    Dict.pop(name)\n",
        "    print(Dict)\n",
        "\n",
        "  else:\n",
        "    print(f\"Sorry!!, {name} doesn't exist in the data!\")\n",
        "  \n",
        "elif inp == 'query':\n",
        "  emp= input(\"Enter the name of the employee you want to query: \").title()\n",
        "  if emp in Dict.keys():\n",
        "    print(f\"The salary of {emp} is {Dict[emp]}\")\n",
        "  else:\n",
        "    print(f\"The employee named {emp} doesn't exist!!\")\n",
        "\n",
        "else:\n",
        "  print(\"Enter a valid choice\")"
      ],
      "execution_count": null,
      "outputs": [
        {
          "output_type": "stream",
          "text": [
            "Enter your choice :print or add or remove or query: print\n",
            "John ==> 14\n",
            "Smith ==> 13\n",
            "Alice ==> 32\n",
            "Daniel ==> 21\n"
          ],
          "name": "stdout"
        }
      ]
    },
    {
      "cell_type": "markdown",
      "metadata": {
        "id": "E18tOcCfvBHX"
      },
      "source": [
        "**Questions on Sets**\n",
        "\n",
        "**1 What is the difference between a set and a frozenset? Create any set and try to use frozenset(setname).**\n"
      ]
    },
    {
      "cell_type": "code",
      "metadata": {
        "colab": {
          "base_uri": "https://localhost:8080/"
        },
        "id": "qA9G3g4huCuU",
        "outputId": "45c893ea-cfbc-4baa-cb58-5a355459d7e7"
      },
      "source": [
        "a = set(\"Set and FrozenSet\")\n",
        "print(a)\n",
        "print(type(a))\n",
        "\n",
        "a.remove(\" \")\n",
        "print(a)"
      ],
      "execution_count": null,
      "outputs": [
        {
          "output_type": "stream",
          "text": [
            "{'n', 'e', 'r', ' ', 'o', 'd', 'S', 'z', 'F', 'a', 't'}\n",
            "<class 'set'>\n",
            "{'n', 'e', 'r', 'o', 'd', 'S', 'z', 'F', 'a', 't'}\n"
          ],
          "name": "stdout"
        }
      ]
    },
    {
      "cell_type": "code",
      "metadata": {
        "colab": {
          "base_uri": "https://localhost:8080/",
          "height": 214
        },
        "id": "B2WoW6EGvzMh",
        "outputId": "4a4de590-eb89-4aba-f366-ae1cdb3bf682"
      },
      "source": [
        "a = frozenset(a)\n",
        "\n",
        "print(type(a))\n",
        "\n",
        "a.discard(\" \")"
      ],
      "execution_count": null,
      "outputs": [
        {
          "output_type": "stream",
          "text": [
            "<class 'frozenset'>\n"
          ],
          "name": "stdout"
        },
        {
          "output_type": "error",
          "ename": "AttributeError",
          "evalue": "ignored",
          "traceback": [
            "\u001b[0;31m---------------------------------------------------------------------------\u001b[0m",
            "\u001b[0;31mAttributeError\u001b[0m                            Traceback (most recent call last)",
            "\u001b[0;32m<ipython-input-14-57fd52046290>\u001b[0m in \u001b[0;36m<module>\u001b[0;34m()\u001b[0m\n\u001b[1;32m      3\u001b[0m \u001b[0mprint\u001b[0m\u001b[0;34m(\u001b[0m\u001b[0mtype\u001b[0m\u001b[0;34m(\u001b[0m\u001b[0ma\u001b[0m\u001b[0;34m)\u001b[0m\u001b[0;34m)\u001b[0m\u001b[0;34m\u001b[0m\u001b[0;34m\u001b[0m\u001b[0m\n\u001b[1;32m      4\u001b[0m \u001b[0;34m\u001b[0m\u001b[0m\n\u001b[0;32m----> 5\u001b[0;31m \u001b[0ma\u001b[0m\u001b[0;34m.\u001b[0m\u001b[0mdiscard\u001b[0m\u001b[0;34m(\u001b[0m\u001b[0;34m\" \"\u001b[0m\u001b[0;34m)\u001b[0m\u001b[0;34m\u001b[0m\u001b[0;34m\u001b[0m\u001b[0m\n\u001b[0m",
            "\u001b[0;31mAttributeError\u001b[0m: 'frozenset' object has no attribute 'discard'"
          ]
        }
      ]
    },
    {
      "cell_type": "markdown",
      "metadata": {
        "id": "vKLMfhNEvmoi"
      },
      "source": [
        "**2. Find the elements in a given set that are not in another set**\n",
        "\n",
        "    set1 = {10,20,30,40,50}\n",
        "\n",
        "    set2 = {40,50,60,70,80}\n",
        "\n",
        " Difference between set1 and set2 is {10,20,30}"
      ]
    },
    {
      "cell_type": "code",
      "metadata": {
        "colab": {
          "base_uri": "https://localhost:8080/"
        },
        "id": "C7d26o0Rv4ye",
        "outputId": "2da555ae-d193-4d5c-85e6-23d2543bd46d"
      },
      "source": [
        "set1 = {10,20,30,40,50}\n",
        "set2 = {40,50,60,70,80}\n",
        "\n",
        "print(\"Elements present in set1 but not in set2 using difference() method:\")\n",
        "print(set1.difference(set2))\n",
        "print(\"Elements present in set2 but not in set1 using difference() method:\")\n",
        "print(set2.difference(set1))"
      ],
      "execution_count": null,
      "outputs": [
        {
          "output_type": "stream",
          "text": [
            "Elements present in set1 but not in set2 using difference() method:\n",
            "{10, 20, 30}\n",
            "Elements present in set2 but not in set1 using difference() method:\n",
            "{80, 60, 70}\n"
          ],
          "name": "stdout"
        }
      ]
    }
  ]
}
