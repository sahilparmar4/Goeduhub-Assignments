{
  "nbformat": 4,
  "nbformat_minor": 0,
  "metadata": {
    "colab": {
      "name": "Goeduhub_Assignment5.ipynb",
      "provenance": [],
      "mount_file_id": "1mEdt-u9O9O6J75CIGzs2ZUdmDi1Fm0hK",
      "authorship_tag": "ABX9TyMPX4rJTqBNx2khOy4sHpt0",
      "include_colab_link": true
    },
    "kernelspec": {
      "name": "python3",
      "display_name": "Python 3"
    },
    "language_info": {
      "name": "python"
    }
  },
  "cells": [
    {
      "cell_type": "markdown",
      "metadata": {
        "id": "view-in-github",
        "colab_type": "text"
      },
      "source": [
        "<a href=\"https://colab.research.google.com/github/sahilparmar4/Goeduhub-Assignments/blob/main/Goeduhub_Assignment5.ipynb\" target=\"_parent\"><img src=\"https://colab.research.google.com/assets/colab-badge.svg\" alt=\"Open In Colab\"/></a>"
      ]
    },
    {
      "cell_type": "markdown",
      "metadata": {
        "id": "vODmcm4CkDtb"
      },
      "source": [
        "**1. Load the IMDb Dataset and read**"
      ]
    },
    {
      "cell_type": "code",
      "metadata": {
        "id": "B69UwTGoiKNH"
      },
      "source": [
        "import pandas as pd\n",
        "import numpy as np\n",
        "\n",
        "imdb = pd.read_csv(\"/content/drive/MyDrive/Goeduhub/IMDB-Movie-Data.csv\")"
      ],
      "execution_count": null,
      "outputs": []
    },
    {
      "cell_type": "markdown",
      "metadata": {
        "id": "Wr7fESDalm3f"
      },
      "source": [
        "**2. View the dataset**"
      ]
    },
    {
      "cell_type": "code",
      "metadata": {
        "colab": {
          "base_uri": "https://localhost:8080/",
          "height": 357
        },
        "id": "FiMAW4IQlpdW",
        "outputId": "af4f3140-93df-469c-e104-9a3d039daf2b"
      },
      "source": [
        "imdb.head()"
      ],
      "execution_count": null,
      "outputs": [
        {
          "output_type": "execute_result",
          "data": {
            "text/html": [
              "<div>\n",
              "<style scoped>\n",
              "    .dataframe tbody tr th:only-of-type {\n",
              "        vertical-align: middle;\n",
              "    }\n",
              "\n",
              "    .dataframe tbody tr th {\n",
              "        vertical-align: top;\n",
              "    }\n",
              "\n",
              "    .dataframe thead th {\n",
              "        text-align: right;\n",
              "    }\n",
              "</style>\n",
              "<table border=\"1\" class=\"dataframe\">\n",
              "  <thead>\n",
              "    <tr style=\"text-align: right;\">\n",
              "      <th></th>\n",
              "      <th>Rank</th>\n",
              "      <th>Title</th>\n",
              "      <th>Genre</th>\n",
              "      <th>Description</th>\n",
              "      <th>Director</th>\n",
              "      <th>Actors</th>\n",
              "      <th>Year</th>\n",
              "      <th>Runtime (Minutes)</th>\n",
              "      <th>Rating</th>\n",
              "      <th>Votes</th>\n",
              "      <th>Revenue (Millions)</th>\n",
              "      <th>Metascore</th>\n",
              "    </tr>\n",
              "  </thead>\n",
              "  <tbody>\n",
              "    <tr>\n",
              "      <th>0</th>\n",
              "      <td>1</td>\n",
              "      <td>Guardians of the Galaxy</td>\n",
              "      <td>Action,Adventure,Sci-Fi</td>\n",
              "      <td>A group of intergalactic criminals are forced ...</td>\n",
              "      <td>James Gunn</td>\n",
              "      <td>Chris Pratt, Vin Diesel, Bradley Cooper, Zoe S...</td>\n",
              "      <td>2014</td>\n",
              "      <td>121</td>\n",
              "      <td>8.1</td>\n",
              "      <td>757074</td>\n",
              "      <td>333.13</td>\n",
              "      <td>76.0</td>\n",
              "    </tr>\n",
              "    <tr>\n",
              "      <th>1</th>\n",
              "      <td>2</td>\n",
              "      <td>Prometheus</td>\n",
              "      <td>Adventure,Mystery,Sci-Fi</td>\n",
              "      <td>Following clues to the origin of mankind, a te...</td>\n",
              "      <td>Ridley Scott</td>\n",
              "      <td>Noomi Rapace, Logan Marshall-Green, Michael Fa...</td>\n",
              "      <td>2012</td>\n",
              "      <td>124</td>\n",
              "      <td>7.0</td>\n",
              "      <td>485820</td>\n",
              "      <td>126.46</td>\n",
              "      <td>65.0</td>\n",
              "    </tr>\n",
              "    <tr>\n",
              "      <th>2</th>\n",
              "      <td>3</td>\n",
              "      <td>Split</td>\n",
              "      <td>Horror,Thriller</td>\n",
              "      <td>Three girls are kidnapped by a man with a diag...</td>\n",
              "      <td>M. Night Shyamalan</td>\n",
              "      <td>James McAvoy, Anya Taylor-Joy, Haley Lu Richar...</td>\n",
              "      <td>2016</td>\n",
              "      <td>117</td>\n",
              "      <td>7.3</td>\n",
              "      <td>157606</td>\n",
              "      <td>138.12</td>\n",
              "      <td>62.0</td>\n",
              "    </tr>\n",
              "    <tr>\n",
              "      <th>3</th>\n",
              "      <td>4</td>\n",
              "      <td>Sing</td>\n",
              "      <td>Animation,Comedy,Family</td>\n",
              "      <td>In a city of humanoid animals, a hustling thea...</td>\n",
              "      <td>Christophe Lourdelet</td>\n",
              "      <td>Matthew McConaughey,Reese Witherspoon, Seth Ma...</td>\n",
              "      <td>2016</td>\n",
              "      <td>108</td>\n",
              "      <td>7.2</td>\n",
              "      <td>60545</td>\n",
              "      <td>270.32</td>\n",
              "      <td>59.0</td>\n",
              "    </tr>\n",
              "    <tr>\n",
              "      <th>4</th>\n",
              "      <td>5</td>\n",
              "      <td>Suicide Squad</td>\n",
              "      <td>Action,Adventure,Fantasy</td>\n",
              "      <td>A secret government agency recruits some of th...</td>\n",
              "      <td>David Ayer</td>\n",
              "      <td>Will Smith, Jared Leto, Margot Robbie, Viola D...</td>\n",
              "      <td>2016</td>\n",
              "      <td>123</td>\n",
              "      <td>6.2</td>\n",
              "      <td>393727</td>\n",
              "      <td>325.02</td>\n",
              "      <td>40.0</td>\n",
              "    </tr>\n",
              "  </tbody>\n",
              "</table>\n",
              "</div>"
            ],
            "text/plain": [
              "   Rank                    Title  ... Revenue (Millions) Metascore\n",
              "0     1  Guardians of the Galaxy  ...             333.13      76.0\n",
              "1     2               Prometheus  ...             126.46      65.0\n",
              "2     3                    Split  ...             138.12      62.0\n",
              "3     4                     Sing  ...             270.32      59.0\n",
              "4     5            Suicide Squad  ...             325.02      40.0\n",
              "\n",
              "[5 rows x 12 columns]"
            ]
          },
          "metadata": {
            "tags": []
          },
          "execution_count": 7
        }
      ]
    },
    {
      "cell_type": "markdown",
      "metadata": {
        "id": "_QqIaOevl7pG"
      },
      "source": [
        "**3. Understand some basic information about the dataset and Inspect the dataframe Inspect the dataframe's columns, shapes, variable types etc.**"
      ]
    },
    {
      "cell_type": "code",
      "metadata": {
        "colab": {
          "base_uri": "https://localhost:8080/"
        },
        "id": "dE8hGgC-l_eV",
        "outputId": "7f79d00f-689b-46fa-db63-737926109c08"
      },
      "source": [
        "print(\"Columns present:\\n\", imdb.columns)\n",
        "print()\n",
        "print(\"Shape of dataset:\\n\", imdb.shape)\n",
        "print()\n",
        "print(\"Variable types:\\n\", imdb.dtypes)\n",
        "print()\n",
        "print(\"Basic Statistics:\\n\", imdb.describe())"
      ],
      "execution_count": null,
      "outputs": [
        {
          "output_type": "stream",
          "text": [
            "Columns present:\n",
            " Index(['Rank', 'Title', 'Genre', 'Description', 'Director', 'Actors', 'Year',\n",
            "       'Runtime (Minutes)', 'Rating', 'Votes', 'Revenue (Millions)',\n",
            "       'Metascore'],\n",
            "      dtype='object')\n",
            "\n",
            "Shape of dataset:\n",
            " (1000, 12)\n",
            "\n",
            "Variable types:\n",
            " Rank                    int64\n",
            "Title                  object\n",
            "Genre                  object\n",
            "Description            object\n",
            "Director               object\n",
            "Actors                 object\n",
            "Year                    int64\n",
            "Runtime (Minutes)       int64\n",
            "Rating                float64\n",
            "Votes                   int64\n",
            "Revenue (Millions)    float64\n",
            "Metascore             float64\n",
            "dtype: object\n",
            "\n",
            "Basic Statistics:\n",
            "               Rank         Year  ...  Revenue (Millions)   Metascore\n",
            "count  1000.000000  1000.000000  ...          872.000000  936.000000\n",
            "mean    500.500000  2012.783000  ...           82.956376   58.985043\n",
            "std     288.819436     3.205962  ...          103.253540   17.194757\n",
            "min       1.000000  2006.000000  ...            0.000000   11.000000\n",
            "25%     250.750000  2010.000000  ...           13.270000   47.000000\n",
            "50%     500.500000  2014.000000  ...           47.985000   59.500000\n",
            "75%     750.250000  2016.000000  ...          113.715000   72.000000\n",
            "max    1000.000000  2016.000000  ...          936.630000  100.000000\n",
            "\n",
            "[8 rows x 7 columns]\n"
          ],
          "name": "stdout"
        }
      ]
    },
    {
      "cell_type": "markdown",
      "metadata": {
        "id": "Fepch-bKnBbf"
      },
      "source": [
        "**4. Data Selection – Indexing and Slicing data**"
      ]
    },
    {
      "cell_type": "code",
      "metadata": {
        "colab": {
          "base_uri": "https://localhost:8080/",
          "height": 798
        },
        "id": "luBvGgCInELb",
        "outputId": "362382e6-7f39-4729-f3ac-c6dff7487d62"
      },
      "source": [
        "imdb[0:11]"
      ],
      "execution_count": null,
      "outputs": [
        {
          "output_type": "execute_result",
          "data": {
            "text/html": [
              "<div>\n",
              "<style scoped>\n",
              "    .dataframe tbody tr th:only-of-type {\n",
              "        vertical-align: middle;\n",
              "    }\n",
              "\n",
              "    .dataframe tbody tr th {\n",
              "        vertical-align: top;\n",
              "    }\n",
              "\n",
              "    .dataframe thead th {\n",
              "        text-align: right;\n",
              "    }\n",
              "</style>\n",
              "<table border=\"1\" class=\"dataframe\">\n",
              "  <thead>\n",
              "    <tr style=\"text-align: right;\">\n",
              "      <th></th>\n",
              "      <th>Rank</th>\n",
              "      <th>Title</th>\n",
              "      <th>Genre</th>\n",
              "      <th>Description</th>\n",
              "      <th>Director</th>\n",
              "      <th>Actors</th>\n",
              "      <th>Year</th>\n",
              "      <th>Runtime (Minutes)</th>\n",
              "      <th>Rating</th>\n",
              "      <th>Votes</th>\n",
              "      <th>Revenue (Millions)</th>\n",
              "      <th>Metascore</th>\n",
              "    </tr>\n",
              "  </thead>\n",
              "  <tbody>\n",
              "    <tr>\n",
              "      <th>0</th>\n",
              "      <td>1</td>\n",
              "      <td>Guardians of the Galaxy</td>\n",
              "      <td>Action,Adventure,Sci-Fi</td>\n",
              "      <td>A group of intergalactic criminals are forced ...</td>\n",
              "      <td>James Gunn</td>\n",
              "      <td>Chris Pratt, Vin Diesel, Bradley Cooper, Zoe S...</td>\n",
              "      <td>2014</td>\n",
              "      <td>121</td>\n",
              "      <td>8.1</td>\n",
              "      <td>757074</td>\n",
              "      <td>333.13</td>\n",
              "      <td>76.0</td>\n",
              "    </tr>\n",
              "    <tr>\n",
              "      <th>1</th>\n",
              "      <td>2</td>\n",
              "      <td>Prometheus</td>\n",
              "      <td>Adventure,Mystery,Sci-Fi</td>\n",
              "      <td>Following clues to the origin of mankind, a te...</td>\n",
              "      <td>Ridley Scott</td>\n",
              "      <td>Noomi Rapace, Logan Marshall-Green, Michael Fa...</td>\n",
              "      <td>2012</td>\n",
              "      <td>124</td>\n",
              "      <td>7.0</td>\n",
              "      <td>485820</td>\n",
              "      <td>126.46</td>\n",
              "      <td>65.0</td>\n",
              "    </tr>\n",
              "    <tr>\n",
              "      <th>2</th>\n",
              "      <td>3</td>\n",
              "      <td>Split</td>\n",
              "      <td>Horror,Thriller</td>\n",
              "      <td>Three girls are kidnapped by a man with a diag...</td>\n",
              "      <td>M. Night Shyamalan</td>\n",
              "      <td>James McAvoy, Anya Taylor-Joy, Haley Lu Richar...</td>\n",
              "      <td>2016</td>\n",
              "      <td>117</td>\n",
              "      <td>7.3</td>\n",
              "      <td>157606</td>\n",
              "      <td>138.12</td>\n",
              "      <td>62.0</td>\n",
              "    </tr>\n",
              "    <tr>\n",
              "      <th>3</th>\n",
              "      <td>4</td>\n",
              "      <td>Sing</td>\n",
              "      <td>Animation,Comedy,Family</td>\n",
              "      <td>In a city of humanoid animals, a hustling thea...</td>\n",
              "      <td>Christophe Lourdelet</td>\n",
              "      <td>Matthew McConaughey,Reese Witherspoon, Seth Ma...</td>\n",
              "      <td>2016</td>\n",
              "      <td>108</td>\n",
              "      <td>7.2</td>\n",
              "      <td>60545</td>\n",
              "      <td>270.32</td>\n",
              "      <td>59.0</td>\n",
              "    </tr>\n",
              "    <tr>\n",
              "      <th>4</th>\n",
              "      <td>5</td>\n",
              "      <td>Suicide Squad</td>\n",
              "      <td>Action,Adventure,Fantasy</td>\n",
              "      <td>A secret government agency recruits some of th...</td>\n",
              "      <td>David Ayer</td>\n",
              "      <td>Will Smith, Jared Leto, Margot Robbie, Viola D...</td>\n",
              "      <td>2016</td>\n",
              "      <td>123</td>\n",
              "      <td>6.2</td>\n",
              "      <td>393727</td>\n",
              "      <td>325.02</td>\n",
              "      <td>40.0</td>\n",
              "    </tr>\n",
              "    <tr>\n",
              "      <th>5</th>\n",
              "      <td>6</td>\n",
              "      <td>The Great Wall</td>\n",
              "      <td>Action,Adventure,Fantasy</td>\n",
              "      <td>European mercenaries searching for black powde...</td>\n",
              "      <td>Yimou Zhang</td>\n",
              "      <td>Matt Damon, Tian Jing, Willem Dafoe, Andy Lau</td>\n",
              "      <td>2016</td>\n",
              "      <td>103</td>\n",
              "      <td>6.1</td>\n",
              "      <td>56036</td>\n",
              "      <td>45.13</td>\n",
              "      <td>42.0</td>\n",
              "    </tr>\n",
              "    <tr>\n",
              "      <th>6</th>\n",
              "      <td>7</td>\n",
              "      <td>La La Land</td>\n",
              "      <td>Comedy,Drama,Music</td>\n",
              "      <td>A jazz pianist falls for an aspiring actress i...</td>\n",
              "      <td>Damien Chazelle</td>\n",
              "      <td>Ryan Gosling, Emma Stone, Rosemarie DeWitt, J....</td>\n",
              "      <td>2016</td>\n",
              "      <td>128</td>\n",
              "      <td>8.3</td>\n",
              "      <td>258682</td>\n",
              "      <td>151.06</td>\n",
              "      <td>93.0</td>\n",
              "    </tr>\n",
              "    <tr>\n",
              "      <th>7</th>\n",
              "      <td>8</td>\n",
              "      <td>Mindhorn</td>\n",
              "      <td>Comedy</td>\n",
              "      <td>A has-been actor best known for playing the ti...</td>\n",
              "      <td>Sean Foley</td>\n",
              "      <td>Essie Davis, Andrea Riseborough, Julian Barrat...</td>\n",
              "      <td>2016</td>\n",
              "      <td>89</td>\n",
              "      <td>6.4</td>\n",
              "      <td>2490</td>\n",
              "      <td>NaN</td>\n",
              "      <td>71.0</td>\n",
              "    </tr>\n",
              "    <tr>\n",
              "      <th>8</th>\n",
              "      <td>9</td>\n",
              "      <td>The Lost City of Z</td>\n",
              "      <td>Action,Adventure,Biography</td>\n",
              "      <td>A true-life drama, centering on British explor...</td>\n",
              "      <td>James Gray</td>\n",
              "      <td>Charlie Hunnam, Robert Pattinson, Sienna Mille...</td>\n",
              "      <td>2016</td>\n",
              "      <td>141</td>\n",
              "      <td>7.1</td>\n",
              "      <td>7188</td>\n",
              "      <td>8.01</td>\n",
              "      <td>78.0</td>\n",
              "    </tr>\n",
              "    <tr>\n",
              "      <th>9</th>\n",
              "      <td>10</td>\n",
              "      <td>Passengers</td>\n",
              "      <td>Adventure,Drama,Romance</td>\n",
              "      <td>A spacecraft traveling to a distant colony pla...</td>\n",
              "      <td>Morten Tyldum</td>\n",
              "      <td>Jennifer Lawrence, Chris Pratt, Michael Sheen,...</td>\n",
              "      <td>2016</td>\n",
              "      <td>116</td>\n",
              "      <td>7.0</td>\n",
              "      <td>192177</td>\n",
              "      <td>100.01</td>\n",
              "      <td>41.0</td>\n",
              "    </tr>\n",
              "    <tr>\n",
              "      <th>10</th>\n",
              "      <td>11</td>\n",
              "      <td>Fantastic Beasts and Where to Find Them</td>\n",
              "      <td>Adventure,Family,Fantasy</td>\n",
              "      <td>The adventures of writer Newt Scamander in New...</td>\n",
              "      <td>David Yates</td>\n",
              "      <td>Eddie Redmayne, Katherine Waterston, Alison Su...</td>\n",
              "      <td>2016</td>\n",
              "      <td>133</td>\n",
              "      <td>7.5</td>\n",
              "      <td>232072</td>\n",
              "      <td>234.02</td>\n",
              "      <td>66.0</td>\n",
              "    </tr>\n",
              "  </tbody>\n",
              "</table>\n",
              "</div>"
            ],
            "text/plain": [
              "    Rank  ... Metascore\n",
              "0      1  ...      76.0\n",
              "1      2  ...      65.0\n",
              "2      3  ...      62.0\n",
              "3      4  ...      59.0\n",
              "4      5  ...      40.0\n",
              "5      6  ...      42.0\n",
              "6      7  ...      93.0\n",
              "7      8  ...      71.0\n",
              "8      9  ...      78.0\n",
              "9     10  ...      41.0\n",
              "10    11  ...      66.0\n",
              "\n",
              "[11 rows x 12 columns]"
            ]
          },
          "metadata": {
            "tags": []
          },
          "execution_count": 14
        }
      ]
    },
    {
      "cell_type": "code",
      "metadata": {
        "colab": {
          "base_uri": "https://localhost:8080/",
          "height": 359
        },
        "id": "gMqPEtcwolgc",
        "outputId": "3c83fc68-7d27-4747-dc60-babd763939c8"
      },
      "source": [
        "imdb.iloc[0:10, [1, 5, 8]]"
      ],
      "execution_count": null,
      "outputs": [
        {
          "output_type": "execute_result",
          "data": {
            "text/html": [
              "<div>\n",
              "<style scoped>\n",
              "    .dataframe tbody tr th:only-of-type {\n",
              "        vertical-align: middle;\n",
              "    }\n",
              "\n",
              "    .dataframe tbody tr th {\n",
              "        vertical-align: top;\n",
              "    }\n",
              "\n",
              "    .dataframe thead th {\n",
              "        text-align: right;\n",
              "    }\n",
              "</style>\n",
              "<table border=\"1\" class=\"dataframe\">\n",
              "  <thead>\n",
              "    <tr style=\"text-align: right;\">\n",
              "      <th></th>\n",
              "      <th>Title</th>\n",
              "      <th>Actors</th>\n",
              "      <th>Rating</th>\n",
              "    </tr>\n",
              "  </thead>\n",
              "  <tbody>\n",
              "    <tr>\n",
              "      <th>0</th>\n",
              "      <td>Guardians of the Galaxy</td>\n",
              "      <td>Chris Pratt, Vin Diesel, Bradley Cooper, Zoe S...</td>\n",
              "      <td>8.1</td>\n",
              "    </tr>\n",
              "    <tr>\n",
              "      <th>1</th>\n",
              "      <td>Prometheus</td>\n",
              "      <td>Noomi Rapace, Logan Marshall-Green, Michael Fa...</td>\n",
              "      <td>7.0</td>\n",
              "    </tr>\n",
              "    <tr>\n",
              "      <th>2</th>\n",
              "      <td>Split</td>\n",
              "      <td>James McAvoy, Anya Taylor-Joy, Haley Lu Richar...</td>\n",
              "      <td>7.3</td>\n",
              "    </tr>\n",
              "    <tr>\n",
              "      <th>3</th>\n",
              "      <td>Sing</td>\n",
              "      <td>Matthew McConaughey,Reese Witherspoon, Seth Ma...</td>\n",
              "      <td>7.2</td>\n",
              "    </tr>\n",
              "    <tr>\n",
              "      <th>4</th>\n",
              "      <td>Suicide Squad</td>\n",
              "      <td>Will Smith, Jared Leto, Margot Robbie, Viola D...</td>\n",
              "      <td>6.2</td>\n",
              "    </tr>\n",
              "    <tr>\n",
              "      <th>5</th>\n",
              "      <td>The Great Wall</td>\n",
              "      <td>Matt Damon, Tian Jing, Willem Dafoe, Andy Lau</td>\n",
              "      <td>6.1</td>\n",
              "    </tr>\n",
              "    <tr>\n",
              "      <th>6</th>\n",
              "      <td>La La Land</td>\n",
              "      <td>Ryan Gosling, Emma Stone, Rosemarie DeWitt, J....</td>\n",
              "      <td>8.3</td>\n",
              "    </tr>\n",
              "    <tr>\n",
              "      <th>7</th>\n",
              "      <td>Mindhorn</td>\n",
              "      <td>Essie Davis, Andrea Riseborough, Julian Barrat...</td>\n",
              "      <td>6.4</td>\n",
              "    </tr>\n",
              "    <tr>\n",
              "      <th>8</th>\n",
              "      <td>The Lost City of Z</td>\n",
              "      <td>Charlie Hunnam, Robert Pattinson, Sienna Mille...</td>\n",
              "      <td>7.1</td>\n",
              "    </tr>\n",
              "    <tr>\n",
              "      <th>9</th>\n",
              "      <td>Passengers</td>\n",
              "      <td>Jennifer Lawrence, Chris Pratt, Michael Sheen,...</td>\n",
              "      <td>7.0</td>\n",
              "    </tr>\n",
              "  </tbody>\n",
              "</table>\n",
              "</div>"
            ],
            "text/plain": [
              "                     Title  ... Rating\n",
              "0  Guardians of the Galaxy  ...    8.1\n",
              "1               Prometheus  ...    7.0\n",
              "2                    Split  ...    7.3\n",
              "3                     Sing  ...    7.2\n",
              "4            Suicide Squad  ...    6.2\n",
              "5           The Great Wall  ...    6.1\n",
              "6               La La Land  ...    8.3\n",
              "7                 Mindhorn  ...    6.4\n",
              "8       The Lost City of Z  ...    7.1\n",
              "9               Passengers  ...    7.0\n",
              "\n",
              "[10 rows x 3 columns]"
            ]
          },
          "metadata": {
            "tags": []
          },
          "execution_count": 15
        }
      ]
    },
    {
      "cell_type": "code",
      "metadata": {
        "colab": {
          "base_uri": "https://localhost:8080/"
        },
        "id": "j3dAswsUpDEQ",
        "outputId": "9a0103d1-aceb-4ec3-98ad-80c62f9ce287"
      },
      "source": [
        "imdb.iloc[0]"
      ],
      "execution_count": null,
      "outputs": [
        {
          "output_type": "execute_result",
          "data": {
            "text/plain": [
              "Rank                                                                  1\n",
              "Title                                           Guardians of the Galaxy\n",
              "Genre                                           Action,Adventure,Sci-Fi\n",
              "Description           A group of intergalactic criminals are forced ...\n",
              "Director                                                     James Gunn\n",
              "Actors                Chris Pratt, Vin Diesel, Bradley Cooper, Zoe S...\n",
              "Year                                                               2014\n",
              "Runtime (Minutes)                                                   121\n",
              "Rating                                                              8.1\n",
              "Votes                                                            757074\n",
              "Revenue (Millions)                                               333.13\n",
              "Metascore                                                            76\n",
              "Name: 0, dtype: object"
            ]
          },
          "metadata": {
            "tags": []
          },
          "execution_count": 16
        }
      ]
    },
    {
      "cell_type": "code",
      "metadata": {
        "colab": {
          "base_uri": "https://localhost:8080/",
          "height": 235
        },
        "id": "v97BJI-uppiV",
        "outputId": "b92cec8a-2108-4568-bd76-7c7853e6e79d"
      },
      "source": [
        "imdb.loc[0:5, [\"Title\", \"Rating\", \"Votes\", \"Metascore\"]]"
      ],
      "execution_count": null,
      "outputs": [
        {
          "output_type": "execute_result",
          "data": {
            "text/html": [
              "<div>\n",
              "<style scoped>\n",
              "    .dataframe tbody tr th:only-of-type {\n",
              "        vertical-align: middle;\n",
              "    }\n",
              "\n",
              "    .dataframe tbody tr th {\n",
              "        vertical-align: top;\n",
              "    }\n",
              "\n",
              "    .dataframe thead th {\n",
              "        text-align: right;\n",
              "    }\n",
              "</style>\n",
              "<table border=\"1\" class=\"dataframe\">\n",
              "  <thead>\n",
              "    <tr style=\"text-align: right;\">\n",
              "      <th></th>\n",
              "      <th>Title</th>\n",
              "      <th>Rating</th>\n",
              "      <th>Votes</th>\n",
              "      <th>Metascore</th>\n",
              "    </tr>\n",
              "  </thead>\n",
              "  <tbody>\n",
              "    <tr>\n",
              "      <th>0</th>\n",
              "      <td>Guardians of the Galaxy</td>\n",
              "      <td>8.1</td>\n",
              "      <td>757074</td>\n",
              "      <td>76.0</td>\n",
              "    </tr>\n",
              "    <tr>\n",
              "      <th>1</th>\n",
              "      <td>Prometheus</td>\n",
              "      <td>7.0</td>\n",
              "      <td>485820</td>\n",
              "      <td>65.0</td>\n",
              "    </tr>\n",
              "    <tr>\n",
              "      <th>2</th>\n",
              "      <td>Split</td>\n",
              "      <td>7.3</td>\n",
              "      <td>157606</td>\n",
              "      <td>62.0</td>\n",
              "    </tr>\n",
              "    <tr>\n",
              "      <th>3</th>\n",
              "      <td>Sing</td>\n",
              "      <td>7.2</td>\n",
              "      <td>60545</td>\n",
              "      <td>59.0</td>\n",
              "    </tr>\n",
              "    <tr>\n",
              "      <th>4</th>\n",
              "      <td>Suicide Squad</td>\n",
              "      <td>6.2</td>\n",
              "      <td>393727</td>\n",
              "      <td>40.0</td>\n",
              "    </tr>\n",
              "    <tr>\n",
              "      <th>5</th>\n",
              "      <td>The Great Wall</td>\n",
              "      <td>6.1</td>\n",
              "      <td>56036</td>\n",
              "      <td>42.0</td>\n",
              "    </tr>\n",
              "  </tbody>\n",
              "</table>\n",
              "</div>"
            ],
            "text/plain": [
              "                     Title  Rating   Votes  Metascore\n",
              "0  Guardians of the Galaxy     8.1  757074       76.0\n",
              "1               Prometheus     7.0  485820       65.0\n",
              "2                    Split     7.3  157606       62.0\n",
              "3                     Sing     7.2   60545       59.0\n",
              "4            Suicide Squad     6.2  393727       40.0\n",
              "5           The Great Wall     6.1   56036       42.0"
            ]
          },
          "metadata": {
            "tags": []
          },
          "execution_count": 17
        }
      ]
    },
    {
      "cell_type": "markdown",
      "metadata": {
        "id": "M-VP3moIqXFp"
      },
      "source": [
        "**5. Data Selection – Based on Conditional filtering**"
      ]
    },
    {
      "cell_type": "code",
      "metadata": {
        "colab": {
          "base_uri": "https://localhost:8080/"
        },
        "id": "AcG7RC6uqbT8",
        "outputId": "ed1b5e95-31d9-47b9-b6eb-636701f78855"
      },
      "source": [
        "top_rank = imdb[imdb[\"Rating\"] > 8.0][\"Title\"].count()\n",
        "print(top_rank)"
      ],
      "execution_count": null,
      "outputs": [
        {
          "output_type": "stream",
          "text": [
            "59\n"
          ],
          "name": "stdout"
        }
      ]
    },
    {
      "cell_type": "markdown",
      "metadata": {
        "id": "PhNAYpxfrSSp"
      },
      "source": [
        "**6. Groupby operations**"
      ]
    },
    {
      "cell_type": "code",
      "metadata": {
        "colab": {
          "base_uri": "https://localhost:8080/"
        },
        "id": "9hj9AsnYrfEZ",
        "outputId": "8236d4bd-4cea-4f90-da9e-2650e25c8da1"
      },
      "source": [
        "top_movie = imdb[imdb[\"Rating\"] > 8.0]\n",
        "top_movie.groupby([\"Title\"])[\"Votes\"].mean()"
      ],
      "execution_count": null,
      "outputs": [
        {
          "output_type": "execute_result",
          "data": {
            "text/plain": [
              "Title\n",
              "12 Years a Slave                                 486338\n",
              "3 Idiots                                         238789\n",
              "Ah-ga-ssi                                         33418\n",
              "Bahubali: The Beginning                           76193\n",
              "Dangal                                            48969\n",
              "Django Unchained                                1039115\n",
              "El secreto de sus ojos                           144524\n",
              "Gone Girl                                        636243\n",
              "Gran Torino                                      595779\n",
              "Guardians of the Galaxy                          757074\n",
              "Hachi: A Dog's Tale                              177602\n",
              "Hacksaw Ridge                                    211760\n",
              "Harry Potter and the Deathly Hallows: Part 2     590595\n",
              "How to Train Your Dragon                         523893\n",
              "Incendies                                         92863\n",
              "Inception                                       1583625\n",
              "Inglourious Basterds                             959065\n",
              "Inside Out                                       416689\n",
              "Interstellar                                    1047747\n",
              "Into the Wild                                    459304\n",
              "Jagten                                           192263\n",
              "Kimi no na wa                                     34110\n",
              "Koe no katachi                                     2421\n",
              "La La Land                                       258682\n",
              "Lion                                             102061\n",
              "Mad Max: Fury Road                               632842\n",
              "Mommy                                             33560\n",
              "No Country for Old Men                           660286\n",
              "PK                                               103279\n",
              "Paint It Black                                       61\n",
              "Pan's Labyrinth                                  498879\n",
              "Prisoners                                        431185\n",
              "Relatos salvajes                                 110100\n",
              "Room                                             224132\n",
              "Rush                                             339722\n",
              "Shutter Island                                   855604\n",
              "Spotlight                                        268282\n",
              "Star Wars: Episode VII - The Force Awakens       661608\n",
              "Taare Zameen Par                                 102697\n",
              "The Avengers                                    1045588\n",
              "The Bourne Ultimatum                             525700\n",
              "The Dark Knight                                 1791916\n",
              "The Dark Knight Rises                           1222645\n",
              "The Departed                                     937414\n",
              "The Grand Budapest Hotel                         530881\n",
              "The Help                                         342429\n",
              "The Imitation Game                               532353\n",
              "The Intouchables                                 557965\n",
              "The Lives of Others                              278103\n",
              "The Prestige                                     913152\n",
              "The Wolf of Wall Street                          865134\n",
              "There Will Be Blood                              400682\n",
              "Toy Story 3                                      586669\n",
              "Twin Peaks: The Missing Pieces                     1973\n",
              "Up                                               722203\n",
              "WALL·E                                           776897\n",
              "Warrior                                          355722\n",
              "Whiplash                                         477276\n",
              "Zootopia                                         296853\n",
              "Name: Votes, dtype: int64"
            ]
          },
          "metadata": {
            "tags": []
          },
          "execution_count": 23
        }
      ]
    },
    {
      "cell_type": "markdown",
      "metadata": {
        "id": "O35JqPKxsz9y"
      },
      "source": [
        "**7. Sorting operation**"
      ]
    },
    {
      "cell_type": "code",
      "metadata": {
        "colab": {
          "base_uri": "https://localhost:8080/",
          "height": 235
        },
        "id": "_WhpyEqWsvZv",
        "outputId": "223bb473-0ca9-4df0-c9a8-4b0d9960107d"
      },
      "source": [
        "most_votes = imdb.groupby([\"Votes\"]).mean()\n",
        "most_votes.sort_values(by = [\"Votes\"], ascending = False).head()"
      ],
      "execution_count": null,
      "outputs": [
        {
          "output_type": "execute_result",
          "data": {
            "text/html": [
              "<div>\n",
              "<style scoped>\n",
              "    .dataframe tbody tr th:only-of-type {\n",
              "        vertical-align: middle;\n",
              "    }\n",
              "\n",
              "    .dataframe tbody tr th {\n",
              "        vertical-align: top;\n",
              "    }\n",
              "\n",
              "    .dataframe thead th {\n",
              "        text-align: right;\n",
              "    }\n",
              "</style>\n",
              "<table border=\"1\" class=\"dataframe\">\n",
              "  <thead>\n",
              "    <tr style=\"text-align: right;\">\n",
              "      <th></th>\n",
              "      <th>Rank</th>\n",
              "      <th>Year</th>\n",
              "      <th>Runtime (Minutes)</th>\n",
              "      <th>Rating</th>\n",
              "      <th>Revenue (Millions)</th>\n",
              "      <th>Metascore</th>\n",
              "    </tr>\n",
              "    <tr>\n",
              "      <th>Votes</th>\n",
              "      <th></th>\n",
              "      <th></th>\n",
              "      <th></th>\n",
              "      <th></th>\n",
              "      <th></th>\n",
              "      <th></th>\n",
              "    </tr>\n",
              "  </thead>\n",
              "  <tbody>\n",
              "    <tr>\n",
              "      <th>1791916</th>\n",
              "      <td>55.0</td>\n",
              "      <td>2008.0</td>\n",
              "      <td>152.0</td>\n",
              "      <td>9.0</td>\n",
              "      <td>533.32</td>\n",
              "      <td>82.0</td>\n",
              "    </tr>\n",
              "    <tr>\n",
              "      <th>1583625</th>\n",
              "      <td>81.0</td>\n",
              "      <td>2010.0</td>\n",
              "      <td>148.0</td>\n",
              "      <td>8.8</td>\n",
              "      <td>292.57</td>\n",
              "      <td>74.0</td>\n",
              "    </tr>\n",
              "    <tr>\n",
              "      <th>1222645</th>\n",
              "      <td>125.0</td>\n",
              "      <td>2012.0</td>\n",
              "      <td>164.0</td>\n",
              "      <td>8.5</td>\n",
              "      <td>448.13</td>\n",
              "      <td>78.0</td>\n",
              "    </tr>\n",
              "    <tr>\n",
              "      <th>1047747</th>\n",
              "      <td>37.0</td>\n",
              "      <td>2014.0</td>\n",
              "      <td>169.0</td>\n",
              "      <td>8.6</td>\n",
              "      <td>187.99</td>\n",
              "      <td>74.0</td>\n",
              "    </tr>\n",
              "    <tr>\n",
              "      <th>1045588</th>\n",
              "      <td>77.0</td>\n",
              "      <td>2012.0</td>\n",
              "      <td>143.0</td>\n",
              "      <td>8.1</td>\n",
              "      <td>623.28</td>\n",
              "      <td>69.0</td>\n",
              "    </tr>\n",
              "  </tbody>\n",
              "</table>\n",
              "</div>"
            ],
            "text/plain": [
              "          Rank    Year  ...  Revenue (Millions)  Metascore\n",
              "Votes                   ...                               \n",
              "1791916   55.0  2008.0  ...              533.32       82.0\n",
              "1583625   81.0  2010.0  ...              292.57       74.0\n",
              "1222645  125.0  2012.0  ...              448.13       78.0\n",
              "1047747   37.0  2014.0  ...              187.99       74.0\n",
              "1045588   77.0  2012.0  ...              623.28       69.0\n",
              "\n",
              "[5 rows x 6 columns]"
            ]
          },
          "metadata": {
            "tags": []
          },
          "execution_count": 38
        }
      ]
    },
    {
      "cell_type": "markdown",
      "metadata": {
        "id": "ll9csLDoxgz6"
      },
      "source": [
        "**8. Dealing with missing values**"
      ]
    },
    {
      "cell_type": "code",
      "metadata": {
        "colab": {
          "base_uri": "https://localhost:8080/"
        },
        "id": "e_baaTKaxjWN",
        "outputId": "393276f0-0d4a-41cc-8445-04e3a99e0525"
      },
      "source": [
        "imdb.isnull().sum()"
      ],
      "execution_count": null,
      "outputs": [
        {
          "output_type": "execute_result",
          "data": {
            "text/plain": [
              "Rank                    0\n",
              "Title                   0\n",
              "Genre                   0\n",
              "Description             0\n",
              "Director                0\n",
              "Actors                  0\n",
              "Year                    0\n",
              "Runtime (Minutes)       0\n",
              "Rating                  0\n",
              "Votes                   0\n",
              "Revenue (Millions)    128\n",
              "Metascore              64\n",
              "dtype: int64"
            ]
          },
          "metadata": {
            "tags": []
          },
          "execution_count": 40
        }
      ]
    },
    {
      "cell_type": "code",
      "metadata": {
        "colab": {
          "base_uri": "https://localhost:8080/"
        },
        "id": "iP3HPn_7xzHm",
        "outputId": "f8e29bf1-4419-402d-8185-db5678bcc371"
      },
      "source": [
        "imdb.fillna(0).isnull().sum()"
      ],
      "execution_count": null,
      "outputs": [
        {
          "output_type": "execute_result",
          "data": {
            "text/plain": [
              "Rank                  0\n",
              "Title                 0\n",
              "Genre                 0\n",
              "Description           0\n",
              "Director              0\n",
              "Actors                0\n",
              "Year                  0\n",
              "Runtime (Minutes)     0\n",
              "Rating                0\n",
              "Votes                 0\n",
              "Revenue (Millions)    0\n",
              "Metascore             0\n",
              "dtype: int64"
            ]
          },
          "metadata": {
            "tags": []
          },
          "execution_count": 44
        }
      ]
    },
    {
      "cell_type": "markdown",
      "metadata": {
        "id": "wpBUpYUezJcD"
      },
      "source": [
        "**10. Apply( ) functions**"
      ]
    },
    {
      "cell_type": "code",
      "metadata": {
        "colab": {
          "base_uri": "https://localhost:8080/"
        },
        "id": "gwipN7_4zOJm",
        "outputId": "82b671c2-0f7c-46c7-f261-e84ae3c14c06"
      },
      "source": [
        "rank = imdb.apply(lambda n: n*5)\n",
        "print(rank.head())"
      ],
      "execution_count": null,
      "outputs": [
        {
          "output_type": "stream",
          "text": [
            "   Rank  ... Metascore\n",
            "0     5  ...     380.0\n",
            "1    10  ...     325.0\n",
            "2    15  ...     310.0\n",
            "3    20  ...     295.0\n",
            "4    25  ...     200.0\n",
            "\n",
            "[5 rows x 12 columns]\n"
          ],
          "name": "stdout"
        }
      ]
    }
  ]
}