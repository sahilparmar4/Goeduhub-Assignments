{
  "nbformat": 4,
  "nbformat_minor": 0,
  "metadata": {
    "colab": {
      "name": "Goeduhub_Assignment1.ipynb",
      "provenance": [],
      "include_colab_link": true
    },
    "kernelspec": {
      "name": "python3",
      "display_name": "Python 3"
    },
    "language_info": {
      "name": "python"
    }
  },
  "cells": [
    {
      "cell_type": "markdown",
      "metadata": {
        "id": "view-in-github",
        "colab_type": "text"
      },
      "source": [
        "<a href=\"https://colab.research.google.com/github/sahilparmar4/Goeduhub-Assignments/blob/main/Goeduhub_Assignment1.ipynb\" target=\"_parent\"><img src=\"https://colab.research.google.com/assets/colab-badge.svg\" alt=\"Open In Colab\"/></a>"
      ]
    },
    {
      "cell_type": "markdown",
      "metadata": {
        "id": "aayR9dyss-Ui"
      },
      "source": [
        "1. We are having 3 list like this\n",
        "\n",
        "Colors = [“Yellow”,”Green”,”White”,”Black”]\n",
        "\n",
        "Fruits=[“Apple”,”Papaya”,”Mango”,”Orange”]\n",
        "\n",
        "Animals=[“Tiger”,”Lion”,”Deer”,”Zebra”]\n",
        "\n",
        "  i. Write a program that asks user to enter a Color/Fruit/Animal name and it should tell which category belongs to , like its is a fruit or color or Animal\n",
        "\n",
        " ii. Write a program that asks user to enter two cities and it tells you if they both are in same country or not. For example if I enter yellow and Black, it will print \"Both are colors\" but if I enter yellow and Tiger it should print \"They don't belong to same category\""
      ]
    },
    {
      "cell_type": "code",
      "metadata": {
        "id": "anCZAroksyKy"
      },
      "source": [
        "colors = [\"Yellow\", \"Green\", \"White\", \"Black\"]\n",
        "fruits = [\"Apple\", \"Papaya\", \"Mango\", \"Orange\"]\n",
        "animals = [\"Tiger\", \"Lion\", \"Deer\", \"Zebra\"]"
      ],
      "execution_count": null,
      "outputs": []
    },
    {
      "cell_type": "code",
      "metadata": {
        "colab": {
          "base_uri": "https://localhost:8080/"
        },
        "id": "uK3rKu1jwF_v",
        "outputId": "54e8666e-8c0f-479d-8bca-4d162a0d62f2"
      },
      "source": [
        "# i\n",
        "\n",
        "ip = input(\"Enter any color or fruit or animal: \")\n",
        "if ip in colors:\n",
        "    print(ip, \"is color\")\n",
        "elif ip in fruits:\n",
        "    print(ip, \"is fruit\")\n",
        "elif ip in animals:\n",
        "    print(ip, \"is animal\")\n",
        "else:\n",
        "    print(ip, \"is not present in any of them\")"
      ],
      "execution_count": null,
      "outputs": [
        {
          "output_type": "stream",
          "text": [
            "Enter any color or fruit or animal: Tiger\n",
            "Tiger is animal\n"
          ],
          "name": "stdout"
        }
      ]
    },
    {
      "cell_type": "code",
      "metadata": {
        "colab": {
          "base_uri": "https://localhost:8080/"
        },
        "id": "_S6-AeSAw6i8",
        "outputId": "a24360ca-96c5-48c6-b6b8-3a35150c9173"
      },
      "source": [
        "# ii\n",
        "\n",
        "ip1 = input(\"Enter first category: \")\n",
        "ip2 = input(\"Enter second category: \")\n",
        "\n",
        "if ip1 in colors and ip2 in colors:\n",
        "    print(\"Both are in same category, colors!\")\n",
        "elif ip1 in fruits and ip2 in fruits:\n",
        "    print(\"Both are in same category, fruits!\")\n",
        "elif ip1 in animals and ip2 in animals:\n",
        "    print(\"Both are in same category, animals!\")\n",
        "else:\n",
        "    print(\"Both are from different categories\")"
      ],
      "execution_count": null,
      "outputs": [
        {
          "output_type": "stream",
          "text": [
            "Enter first category: Tiger\n",
            "Enter second category: Green\n",
            "Both are from different categories\n"
          ],
          "name": "stdout"
        }
      ]
    },
    {
      "cell_type": "markdown",
      "metadata": {
        "id": "SBjxwZ2RxKFf"
      },
      "source": [
        "2.  Write a python program that can tell you if your grade score good or not . Normal Score range is 40 to 60.\n",
        " i. Ask user to enter his score.\n",
        "\n",
        "  ii. If it is below 40 to 60 range then print that score is low\n",
        "\n",
        "  iii. If it is above 60 then print that it is good otherwise print that it is normal"
      ]
    },
    {
      "cell_type": "code",
      "metadata": {
        "colab": {
          "base_uri": "https://localhost:8080/"
        },
        "id": "UkJ9GMuwxLU6",
        "outputId": "25054b93-64e0-4c2b-bc9e-5120abf7705b"
      },
      "source": [
        "score = float(input(\"Enter your score: \"))\n",
        "if score >=0 and score <= 40:\n",
        "    print(\"Your score is low\", score)\n",
        "elif score > 40 and score <= 60:\n",
        "    print(\"Your score is normal\", score)\n",
        "elif score > 60 and score <=100:\n",
        "    print(\"Your score is good\", score)\n",
        "else:\n",
        "    print(\"Please enter a valid score!!\")"
      ],
      "execution_count": null,
      "outputs": [
        {
          "output_type": "stream",
          "text": [
            "Enter your score: 45.5\n",
            "Your score is normal 45.5\n"
          ],
          "name": "stdout"
        }
      ]
    },
    {
      "cell_type": "markdown",
      "metadata": {
        "id": "rVT6NCkyx6Hk"
      },
      "source": [
        "3.  After appearing in exam 10 times you got this result,\n",
        "\n",
        "result = [\"Pass\",\"Fail\",\"Fail\",\"Pass\",\"Fail\",\"Pass\",\"Pass\",\"Fail\",\"Fail\",\"Fail\"]\n",
        "\n",
        "Using for loop figure out how many times you got Pass"
      ]
    },
    {
      "cell_type": "code",
      "metadata": {
        "colab": {
          "base_uri": "https://localhost:8080/"
        },
        "id": "tw66Ja1AyCA8",
        "outputId": "962cd4f8-a55d-4650-b3c7-b22bec8442e7"
      },
      "source": [
        "result = [\"Pass\", \"Fail\", \"Fail\", \"Pass\", \"Fail\", \"Pass\", \"Pass\", \"Fail\", \"Fail\", \"Fail\"]\n",
        "var= 0\n",
        "for i in result:\n",
        "    if i == \"Pass\":\n",
        "     var +=1   \n",
        "print(\"You have passed\", var, \"times\")"
      ],
      "execution_count": null,
      "outputs": [
        {
          "output_type": "stream",
          "text": [
            "You have passed 4 times\n"
          ],
          "name": "stdout"
        }
      ]
    },
    {
      "cell_type": "markdown",
      "metadata": {
        "id": "xyE8MSFIyOwb"
      },
      "source": [
        "4.  Write a program that prints following shape\n",
        "\n",
        "*\n",
        "\n",
        "* *\n",
        "\n",
        "* * *\n",
        "\n",
        "* * * *\n",
        "\n",
        "* * * * *\n",
        "\n",
        "* * * *\n",
        "\n",
        "* * *\n",
        "\n",
        "* *\n",
        "\n",
        "*"
      ]
    },
    {
      "cell_type": "code",
      "metadata": {
        "colab": {
          "base_uri": "https://localhost:8080/"
        },
        "id": "yhN6UZzFyRUv",
        "outputId": "d13601c1-8183-4515-f84e-d305ad0777dd"
      },
      "source": [
        "for i in range(1, 6):\n",
        "    for j in range(i):\n",
        "        print(\"*\", end = \" \")\n",
        "    print()\n",
        "for i in range(4, 0, -1):\n",
        "    for j in range(i):\n",
        "        print(\"*\", end = \" \")\n",
        "    print()"
      ],
      "execution_count": null,
      "outputs": [
        {
          "output_type": "stream",
          "text": [
            "* \n",
            "* * \n",
            "* * * \n",
            "* * * * \n",
            "* * * * * \n",
            "* * * * \n",
            "* * * \n",
            "* * \n",
            "* \n"
          ],
          "name": "stdout"
        }
      ]
    },
    {
      "cell_type": "markdown",
      "metadata": {
        "id": "4GWQfv9sycFz"
      },
      "source": [
        "5.   Lets say you are running a 50 km race. Write a program that,\n",
        "\n",
        "Upon completing each 10 km asks you \"are you tired?\"\n",
        "If you reply \"yes\" then it should break and print \"you didn't finish the race\" If you reply \"no\" then it should continue and ask \"are you tired\" on every km\n",
        "If you finish all 50 km then it should print congratulations message"
      ]
    },
    {
      "cell_type": "code",
      "metadata": {
        "colab": {
          "base_uri": "https://localhost:8080/"
        },
        "id": "j1stWO4fyhiT",
        "outputId": "9d6f8a07-1c04-42e7-de0d-2b07302846cd"
      },
      "source": [
        "flag = 0\n",
        "for i in range(1, 51):\n",
        "    if i % 10 == 0:\n",
        "        run = input(\"Are you tired? Yes or No \")\n",
        "        if run == \"Yes\":\n",
        "            print(\"You didn't finish the race yet!\")\n",
        "        elif run == \"No\":\n",
        "            print(\"Go ahead\")\n",
        "        else:\n",
        "            print(\"Please answer only in Yes/No\")\n",
        "if flag == 0:\n",
        "    print(\"Congratualtions!! You have finished the race\")"
      ],
      "execution_count": null,
      "outputs": [
        {
          "output_type": "stream",
          "text": [
            "Are you tired? Yes or No Yes\n",
            "You didn't finish the race yet!\n",
            "Are you tired? Yes or No Yes\n",
            "You didn't finish the race yet!\n",
            "Are you tired? Yes or No No\n",
            "Go ahead\n",
            "Are you tired? Yes or No yes\n",
            "Please answer only in Yes/No\n",
            "Are you tired? Yes or No ues\n",
            "Please answer only in Yes/No\n",
            "Congratualtions!! You have finished the race\n"
          ],
          "name": "stdout"
        }
      ]
    },
    {
      "cell_type": "markdown",
      "metadata": {
        "id": "7Kex1J2pyp3g"
      },
      "source": [
        "6.  Write a Python program to find those numbers which are divisible by 7 and multiple of 5, between 1500 and 2700 (both included)."
      ]
    },
    {
      "cell_type": "code",
      "metadata": {
        "colab": {
          "base_uri": "https://localhost:8080/"
        },
        "id": "6WOVizXKyuwj",
        "outputId": "bc9d270e-1eb1-4473-cf30-cad0e28aee7f"
      },
      "source": [
        "for i in range(1500, 2701):\n",
        "    if i % 7 == 0 and i * 5:\n",
        "        print(i, end = \" \")"
      ],
      "execution_count": null,
      "outputs": [
        {
          "output_type": "stream",
          "text": [
            "1505 1512 1519 1526 1533 1540 1547 1554 1561 1568 1575 1582 1589 1596 1603 1610 1617 1624 1631 1638 1645 1652 1659 1666 1673 1680 1687 1694 1701 1708 1715 1722 1729 1736 1743 1750 1757 1764 1771 1778 1785 1792 1799 1806 1813 1820 1827 1834 1841 1848 1855 1862 1869 1876 1883 1890 1897 1904 1911 1918 1925 1932 1939 1946 1953 1960 1967 1974 1981 1988 1995 2002 2009 2016 2023 2030 2037 2044 2051 2058 2065 2072 2079 2086 2093 2100 2107 2114 2121 2128 2135 2142 2149 2156 2163 2170 2177 2184 2191 2198 2205 2212 2219 2226 2233 2240 2247 2254 2261 2268 2275 2282 2289 2296 2303 2310 2317 2324 2331 2338 2345 2352 2359 2366 2373 2380 2387 2394 2401 2408 2415 2422 2429 2436 2443 2450 2457 2464 2471 2478 2485 2492 2499 2506 2513 2520 2527 2534 2541 2548 2555 2562 2569 2576 2583 2590 2597 2604 2611 2618 2625 2632 2639 2646 2653 2660 2667 2674 2681 2688 2695 "
          ],
          "name": "stdout"
        }
      ]
    },
    {
      "cell_type": "markdown",
      "metadata": {
        "id": "QkcIGehey05r"
      },
      "source": [
        "7.   Print square of all numbers between 10 to 20 except even numbers"
      ]
    },
    {
      "cell_type": "code",
      "metadata": {
        "colab": {
          "base_uri": "https://localhost:8080/"
        },
        "id": "QRumgsCXy5wr",
        "outputId": "d6f3e3f7-022b-451f-9c2e-1d64fe7a0ba6"
      },
      "source": [
        "for i in range(1, 21):\n",
        "  if i%2 == 0:\n",
        "    continue\n",
        "  else:\n",
        "    print(i * i, end = \" \")"
      ],
      "execution_count": null,
      "outputs": [
        {
          "output_type": "stream",
          "text": [
            "1 9 25 49 81 121 169 225 289 361 "
          ],
          "name": "stdout"
        }
      ]
    },
    {
      "cell_type": "markdown",
      "metadata": {
        "id": "fa5SnY5ezZop"
      },
      "source": [
        "8.  Your Marks for five Test(test1 to test5) looks like this,\n",
        "\n",
        "marks_list = [65, 75, 2100, 95, 83]\n",
        "\n",
        "Write a program that asks you to enter marks and program should tell you in which test that marks occurred. If marks is not found then it should print that as well."
      ]
    },
    {
      "cell_type": "code",
      "metadata": {
        "colab": {
          "base_uri": "https://localhost:8080/"
        },
        "id": "xBC3KAAjzav4",
        "outputId": "9a4ddfdc-7f31-4ca6-cbaf-0f0a59531a31"
      },
      "source": [
        "marks_list = [65, 75, 2100, 95, 83] \n",
        "\n",
        "ip = int(input(\"Enter the marks: \"))\n",
        "if ip not in marks_list:\n",
        "    print(\"Marks are not in the list\")\n",
        "else:\n",
        "    for i in marks_list:\n",
        "        if i == ip:\n",
        "            print(\"You scored\", ip, \"marks in test\")"
      ],
      "execution_count": null,
      "outputs": [
        {
          "output_type": "stream",
          "text": [
            "Enter the marks: 2100\n",
            "You scored 2100 marks in test\n"
          ],
          "name": "stdout"
        }
      ]
    }
  ]
}