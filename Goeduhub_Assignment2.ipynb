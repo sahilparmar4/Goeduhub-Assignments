{
  "nbformat": 4,
  "nbformat_minor": 0,
  "metadata": {
    "colab": {
      "name": "Goeduhub_Assignment2.ipynb",
      "provenance": [],
      "authorship_tag": "ABX9TyM40O1OHOUkMOcuv99rIith",
      "include_colab_link": true
    },
    "kernelspec": {
      "name": "python3",
      "display_name": "Python 3"
    },
    "language_info": {
      "name": "python"
    }
  },
  "cells": [
    {
      "cell_type": "markdown",
      "metadata": {
        "id": "view-in-github",
        "colab_type": "text"
      },
      "source": [
        "<a href=\"https://colab.research.google.com/github/sahilparmar4/Goeduhub-Assignments/blob/main/Goeduhub_Assignment2.ipynb\" target=\"_parent\"><img src=\"https://colab.research.google.com/assets/colab-badge.svg\" alt=\"Open In Colab\"/></a>"
      ]
    },
    {
      "cell_type": "markdown",
      "metadata": {
        "id": "XXx0u2tRZM_8"
      },
      "source": [
        "**1. Is a list mutable?**\n",
        "\n",
        "**Answer:** Yes, lists are mutable.\n",
        "\n",
        "**2. Does a list need to be homogeneous?**\n",
        "\n",
        "**Answer:** List can contain heterogeneous values such as integers, floats, strings, tuples, lists, and dictionaries but they are commonly used to store collections of homogeneous objects.\n",
        "\n",
        "**3. What is the difference between list and tuple?**\n",
        "\n",
        "**Answer:** Lists can be represnet in \"[]\" brackets, while tuples can be represent in \"()\" brackets. Lists are mutable, while tuples are immutable.\n",
        "\n",
        "**4. How to find the number of elements in the list?**\n",
        "\n",
        "**Answer:** In code"
      ]
    },
    {
      "cell_type": "code",
      "metadata": {
        "colab": {
          "base_uri": "https://localhost:8080/"
        },
        "id": "Hi4mIqMjZJqQ",
        "outputId": "b1f11f3f-1236-4610-82b7-c0b5ba57bb26"
      },
      "source": [
        "l = [1, 2, 3, 4, 5]\n",
        "len(l)"
      ],
      "execution_count": null,
      "outputs": [
        {
          "output_type": "execute_result",
          "data": {
            "text/plain": [
              "5"
            ]
          },
          "metadata": {
            "tags": []
          },
          "execution_count": 2
        }
      ]
    },
    {
      "cell_type": "markdown",
      "metadata": {
        "id": "QtY2iIkQcdrk"
      },
      "source": [
        "**5. How to check whether the list is empty or not?**\n",
        "\n",
        "**Answer:** In code"
      ]
    },
    {
      "cell_type": "code",
      "metadata": {
        "colab": {
          "base_uri": "https://localhost:8080/"
        },
        "id": "ZjegJOT1dehu",
        "outputId": "0764749f-239c-4517-9a6b-cbf87c158982"
      },
      "source": [
        "if len(l) == 0:\n",
        "  print(\"List is empty\")\n",
        "else:\n",
        "  print(\"List is not empty\")"
      ],
      "execution_count": null,
      "outputs": [
        {
          "output_type": "stream",
          "text": [
            "List is not empty\n"
          ],
          "name": "stdout"
        }
      ]
    },
    {
      "cell_type": "markdown",
      "metadata": {
        "id": "Zvv_bPnldxaE"
      },
      "source": [
        "**6. How to find the first and last element of the list?**\n",
        "\n",
        "**Answer:** In code"
      ]
    },
    {
      "cell_type": "code",
      "metadata": {
        "colab": {
          "base_uri": "https://localhost:8080/"
        },
        "id": "HIRntgw9d86W",
        "outputId": "09340412-993e-4f69-d4cc-a46b6c06b131"
      },
      "source": [
        "print(\"First element:\", l[0])\n",
        "print(\"Last element:\", l[-1])"
      ],
      "execution_count": null,
      "outputs": [
        {
          "output_type": "stream",
          "text": [
            "First element: 1\n",
            "Last element: 5\n"
          ],
          "name": "stdout"
        }
      ]
    },
    {
      "cell_type": "markdown",
      "metadata": {
        "id": "cop6em7EeLXz"
      },
      "source": [
        "**7. How to find the largest and lowest value in the list?**\n",
        "\n",
        "**Answer:** In code"
      ]
    },
    {
      "cell_type": "code",
      "metadata": {
        "colab": {
          "base_uri": "https://localhost:8080/"
        },
        "id": "2AHsNC1qeZXF",
        "outputId": "f3e7396b-85e9-4d05-bb91-0a66e7ee8a78"
      },
      "source": [
        "print(\"Largest value:\", max(l))\n",
        "print(\"Lowest value:\", min(l))"
      ],
      "execution_count": null,
      "outputs": [
        {
          "output_type": "stream",
          "text": [
            "Largest value: 5\n",
            "Lowest value: 1\n"
          ],
          "name": "stdout"
        }
      ]
    },
    {
      "cell_type": "markdown",
      "metadata": {
        "id": "l4jzn97AfNqQ"
      },
      "source": [
        "**8. How to access elements of the list?**\n",
        "\n",
        "**Answer:** In code"
      ]
    },
    {
      "cell_type": "code",
      "metadata": {
        "colab": {
          "base_uri": "https://localhost:8080/"
        },
        "id": "rJFucfVfffU1",
        "outputId": "9fcd8b07-fd81-4812-d95f-e8d52fab23af"
      },
      "source": [
        "# Using positive indexing\n",
        "\n",
        "print(l[0])\n",
        "print(l[1])\n",
        "print(l[2])\n",
        "print(l[3])\n",
        "print(l[4])\n",
        "\n",
        "print()\n",
        "# Using negative indexing\n",
        "\n",
        "print(l[-1])\n",
        "print(l[-2])\n",
        "print(l[-3])\n",
        "print(l[-4])\n",
        "print(l[-5])"
      ],
      "execution_count": null,
      "outputs": [
        {
          "output_type": "stream",
          "text": [
            "1\n",
            "2\n",
            "3\n",
            "4\n",
            "5\n",
            "\n",
            "5\n",
            "4\n",
            "3\n",
            "2\n",
            "1\n"
          ],
          "name": "stdout"
        }
      ]
    },
    {
      "cell_type": "code",
      "metadata": {
        "colab": {
          "base_uri": "https://localhost:8080/"
        },
        "id": "YSCDa9TrgM5N",
        "outputId": "21b66800-6b5e-4df5-ddc4-86e08f05be58"
      },
      "source": [
        "# Using for loop\n",
        "\n",
        "for i in l:\n",
        "  print(i, end = \" \")"
      ],
      "execution_count": null,
      "outputs": [
        {
          "output_type": "stream",
          "text": [
            "1 2 3 4 5 "
          ],
          "name": "stdout"
        }
      ]
    },
    {
      "cell_type": "markdown",
      "metadata": {
        "id": "g9FPNHGrgd8Z"
      },
      "source": [
        "**9. Remove elements in a list before a specific index**\n",
        "\n",
        "**Answer:** In code\n"
      ]
    },
    {
      "cell_type": "code",
      "metadata": {
        "colab": {
          "base_uri": "https://localhost:8080/"
        },
        "id": "_vUWnst_i3H6",
        "outputId": "2e3909df-ad20-4a2a-ad1b-15d147118d17"
      },
      "source": [
        "# using pop() method\n",
        "l.pop()\n",
        "print(l)"
      ],
      "execution_count": null,
      "outputs": [
        {
          "output_type": "stream",
          "text": [
            "[1, 2, 3, 4]\n"
          ],
          "name": "stdout"
        }
      ]
    },
    {
      "cell_type": "code",
      "metadata": {
        "colab": {
          "base_uri": "https://localhost:8080/"
        },
        "id": "7Qazcg7XjBrY",
        "outputId": "3a069cc3-cc11-4a85-dc6c-96b5aa3e28fa"
      },
      "source": [
        "# using remove() method \n",
        "l.remove(2)\n",
        "print(l)"
      ],
      "execution_count": null,
      "outputs": [
        {
          "output_type": "stream",
          "text": [
            "[1, 3, 4]\n"
          ],
          "name": "stdout"
        }
      ]
    },
    {
      "cell_type": "code",
      "metadata": {
        "colab": {
          "base_uri": "https://localhost:8080/"
        },
        "id": "CGyBJBmwjzZ6",
        "outputId": "edf2d10c-6475-4144-d6b8-97e941d3f513"
      },
      "source": [
        "# using slicing\n",
        "del l[0:2]\n",
        "print(l)"
      ],
      "execution_count": null,
      "outputs": [
        {
          "output_type": "stream",
          "text": [
            "[4]\n"
          ],
          "name": "stdout"
        }
      ]
    },
    {
      "cell_type": "code",
      "metadata": {
        "colab": {
          "base_uri": "https://localhost:8080/",
          "height": 214
        },
        "id": "dprPBr12jH9F",
        "outputId": "ada4d0b1-a122-4fe6-f23a-f8b7d8e95bc3"
      },
      "source": [
        "# using del statement\n",
        "del l[0]\n",
        "print(l)\n",
        "del l\n",
        "print(l)"
      ],
      "execution_count": null,
      "outputs": [
        {
          "output_type": "stream",
          "text": [
            "[]\n"
          ],
          "name": "stdout"
        },
        {
          "output_type": "error",
          "ename": "NameError",
          "evalue": "ignored",
          "traceback": [
            "\u001b[0;31m---------------------------------------------------------------------------\u001b[0m",
            "\u001b[0;31mNameError\u001b[0m                                 Traceback (most recent call last)",
            "\u001b[0;32m<ipython-input-11-288738195ea6>\u001b[0m in \u001b[0;36m<module>\u001b[0;34m()\u001b[0m\n\u001b[1;32m      3\u001b[0m \u001b[0mprint\u001b[0m\u001b[0;34m(\u001b[0m\u001b[0ml\u001b[0m\u001b[0;34m)\u001b[0m\u001b[0;34m\u001b[0m\u001b[0;34m\u001b[0m\u001b[0m\n\u001b[1;32m      4\u001b[0m \u001b[0;32mdel\u001b[0m \u001b[0ml\u001b[0m\u001b[0;34m\u001b[0m\u001b[0;34m\u001b[0m\u001b[0m\n\u001b[0;32m----> 5\u001b[0;31m \u001b[0mprint\u001b[0m\u001b[0;34m(\u001b[0m\u001b[0ml\u001b[0m\u001b[0;34m)\u001b[0m\u001b[0;34m\u001b[0m\u001b[0;34m\u001b[0m\u001b[0m\n\u001b[0m",
            "\u001b[0;31mNameError\u001b[0m: name 'l' is not defined"
          ]
        }
      ]
    },
    {
      "cell_type": "markdown",
      "metadata": {
        "id": "dYJgd2LjkCK8"
      },
      "source": [
        "**10. Remove elements in a list between 2 indices**\n",
        "\n",
        "**Answer:** In answer 8 \"using slicing\"\n",
        "\n",
        "**11. Return every 2nd element in a list between 2 indices**\n",
        "\n",
        "**Answer:** In code"
      ]
    },
    {
      "cell_type": "code",
      "metadata": {
        "colab": {
          "base_uri": "https://localhost:8080/"
        },
        "id": "NPf1zaSAkwEI",
        "outputId": "74b00c67-bc23-46cd-cf7d-1fd3a3d2faad"
      },
      "source": [
        "l = [1, 2, 3, 4, 5]\n",
        "print(l[::2])"
      ],
      "execution_count": null,
      "outputs": [
        {
          "output_type": "stream",
          "text": [
            "[1, 3, 5]\n"
          ],
          "name": "stdout"
        }
      ]
    },
    {
      "cell_type": "markdown",
      "metadata": {
        "id": "gc1h19KklDmI"
      },
      "source": [
        "**12. Get the first element from each nested list in a list**\n",
        "\n",
        "**Answer:** In code"
      ]
    },
    {
      "cell_type": "code",
      "metadata": {
        "colab": {
          "base_uri": "https://localhost:8080/"
        },
        "id": "O4Mg6xyqlVXY",
        "outputId": "980e8689-a9b3-4076-8dfb-c4e9fe80ca62"
      },
      "source": [
        "l = [1, 2, 3, 4, 5, [\"Sahil\", \"Parmar\"]]\n",
        "print(l[-1][0])"
      ],
      "execution_count": null,
      "outputs": [
        {
          "output_type": "stream",
          "text": [
            "Sahil\n"
          ],
          "name": "stdout"
        }
      ]
    },
    {
      "cell_type": "markdown",
      "metadata": {
        "id": "hkq5-rNWloAB"
      },
      "source": [
        "**13. How to modify elements of the list?**\n",
        "\n",
        "**Answer:** In code"
      ]
    },
    {
      "cell_type": "code",
      "metadata": {
        "colab": {
          "base_uri": "https://localhost:8080/"
        },
        "id": "D8bbpoJpjs_4",
        "outputId": "44e5a17d-0a7b-4076-ae9f-4231424db3de"
      },
      "source": [
        "l[-1] = 6 \n",
        "print(l)"
      ],
      "execution_count": null,
      "outputs": [
        {
          "output_type": "stream",
          "text": [
            "[1, 2, 3, 4, 5, 6]\n"
          ],
          "name": "stdout"
        }
      ]
    },
    {
      "cell_type": "code",
      "metadata": {
        "colab": {
          "base_uri": "https://localhost:8080/"
        },
        "id": "0sJSH_J8mGet",
        "outputId": "22614f88-daef-4581-bc2e-ebd0c2908c09"
      },
      "source": [
        "# using update method\n",
        "l1 = [7, 8, 9, 10]\n",
        "l.append(l1)\n",
        "print(l)"
      ],
      "execution_count": null,
      "outputs": [
        {
          "output_type": "stream",
          "text": [
            "[1, 2, 3, 4, 5, 6, [7, 8, 9, 10]]\n"
          ],
          "name": "stdout"
        }
      ]
    },
    {
      "cell_type": "markdown",
      "metadata": {
        "id": "ekGlvEkHnUnK"
      },
      "source": [
        "**14. How to concatenate two lists?**\n",
        "\n",
        "**Answer:** In code"
      ]
    },
    {
      "cell_type": "code",
      "metadata": {
        "colab": {
          "base_uri": "https://localhost:8080/"
        },
        "id": "HVG2SJXsnlsB",
        "outputId": "dd32951d-2e9d-4b2d-debb-29fd51377e59"
      },
      "source": [
        "# using + operator\n",
        "\n",
        "l1 = [1, 2, 3, 4]\n",
        "l2 = [5, 6, 7, 8]\n",
        "l3 = l1 + l2\n",
        "print(l3)"
      ],
      "execution_count": null,
      "outputs": [
        {
          "output_type": "stream",
          "text": [
            "[1, 2, 3, 4, 5, 6, 7, 8]\n"
          ],
          "name": "stdout"
        }
      ]
    },
    {
      "cell_type": "code",
      "metadata": {
        "colab": {
          "base_uri": "https://localhost:8080/"
        },
        "id": "MAfr48DXoOjQ",
        "outputId": "bb5e6df1-45b7-432f-825d-492e61dd1d0e"
      },
      "source": [
        "# using extend() method\n",
        "l1.extend(l2)\n",
        "print(l1)"
      ],
      "execution_count": null,
      "outputs": [
        {
          "output_type": "stream",
          "text": [
            "[1, 2, 3, 4, 5, 6, 7, 8]\n"
          ],
          "name": "stdout"
        }
      ]
    },
    {
      "cell_type": "code",
      "metadata": {
        "colab": {
          "base_uri": "https://localhost:8080/"
        },
        "id": "UxaoYirjox7c",
        "outputId": "fe150f58-c94e-4e39-ba14-a7beaff73c98"
      },
      "source": [
        "# using * operator\n",
        "l3 = [*l1, *l2]\n",
        "print(l3)"
      ],
      "execution_count": null,
      "outputs": [
        {
          "output_type": "stream",
          "text": [
            "[1, 2, 3, 4, 5, 6, 7, 8, 5, 6, 7, 8]\n"
          ],
          "name": "stdout"
        }
      ]
    },
    {
      "cell_type": "markdown",
      "metadata": {
        "id": "Wl-DL0oQgurj"
      },
      "source": [
        "**15. How to add two lists element-wise in python?**\n",
        "\n",
        "**Answer:** In code\n"
      ]
    },
    {
      "cell_type": "code",
      "metadata": {
        "colab": {
          "base_uri": "https://localhost:8080/"
        },
        "id": "H_zvhjeNg6Ei",
        "outputId": "0cd6588e-5d2a-4b55-aca6-ca8d87284ad3"
      },
      "source": [
        "sum = []\n",
        "for (i, j) in zip(l1, l2):\n",
        "  sum.append(i + j)\n",
        "print(sum)"
      ],
      "execution_count": null,
      "outputs": [
        {
          "output_type": "stream",
          "text": [
            "[6, 8, 10, 12]\n"
          ],
          "name": "stdout"
        }
      ]
    },
    {
      "cell_type": "markdown",
      "metadata": {
        "id": "1TTSpTRVmEuZ"
      },
      "source": [
        "**16. Difference between del and clear?**\n",
        "\n",
        "**Answer:** del will delete entire list and clear will remove all the elements inside the list. After applyiong del statement, if we try to print that list, it will show the error, but if we try to print that list after applying clear, it will show the null string without any value inside it.\n",
        "\n",
        "**17. Difference between remove and pop?**\n",
        "\n",
        "**Answer:** pop() will remove the last element byt default. remove() takes value as parameter to remove the element.\n",
        "\n",
        "**18. Difference between append and extend?**\n",
        "\n",
        "**Answer:** append will add nested list means list in list at last position,while extend will extend the elements from last index, but in single list.\n",
        "\n",
        "**19. Difference between indexing and Slicing?**\n",
        "\n",
        "**Answer:** index will give us the index of specified value, while slicing will give value or group of values of specified index.\n",
        "\n",
        "**20. Difference between sort and sorted?**\n",
        "\n",
        "**Answer:** The sort() function modifies the list in-place and has no return value. The sorted() function will create a new list containing a sorted version of the list it is given. The sorted() function will not modify the list passed as a parameter.\n",
        "\n",
        "**21. Difference between reverse and reversed?**\n",
        "\n",
        "**Answer:** reverse() actually reverses the elements in the container. reversed() doesn't actually reverse anything, it merely returns an object that can be used to iterate over the container's elements in reverse order. \n",
        "\n",
        "**22. Difference between copy and deepcopy?**\n",
        "\n",
        "**Answer:** A shallow copy constructs a new compound object and then inserts references into it to the objects found in the original. A deep copy constructs a new compound object and then, recursively, inserts copies into it of the objects found in the original.\n",
        "\n",
        "**23. How to remove duplicate elements in the list?**\n",
        "\n",
        "**Answer:** in code"
      ]
    },
    {
      "cell_type": "code",
      "metadata": {
        "colab": {
          "base_uri": "https://localhost:8080/"
        },
        "id": "VuWEXuVgqJL2",
        "outputId": "9b7257d1-f4f7-4a4b-862d-c6d3c0da8119"
      },
      "source": [
        "l = [148, 183, 139, 107, 101, 109, 139, 113, 134, 124]\n",
        "odi = set(l)\n",
        "print(list(odi))"
      ],
      "execution_count": null,
      "outputs": [
        {
          "output_type": "stream",
          "text": [
            "[101, 134, 107, 139, 109, 113, 148, 183, 124]\n"
          ],
          "name": "stdout"
        }
      ]
    },
    {
      "cell_type": "markdown",
      "metadata": {
        "id": "1drX9kZKupbw"
      },
      "source": [
        "**24. How to find an index of an element in the python list?**\n",
        "\n",
        "**Answer:** In code"
      ]
    },
    {
      "cell_type": "code",
      "metadata": {
        "colab": {
          "base_uri": "https://localhost:8080/"
        },
        "id": "H783dAD6uxCy",
        "outputId": "d34e0eb8-6b0f-430a-989c-00888872f8c9"
      },
      "source": [
        "l.index(183)"
      ],
      "execution_count": null,
      "outputs": [
        {
          "output_type": "execute_result",
          "data": {
            "text/plain": [
              "1"
            ]
          },
          "metadata": {
            "tags": []
          },
          "execution_count": 28
        }
      ]
    },
    {
      "cell_type": "markdown",
      "metadata": {
        "id": "by4UWu7DvN_j"
      },
      "source": [
        "**25. How to find the occurrences of an element in the python list?**\n",
        "\n",
        "**Answer:** In code"
      ]
    },
    {
      "cell_type": "code",
      "metadata": {
        "colab": {
          "base_uri": "https://localhost:8080/"
        },
        "id": "LwqwRH0vvUfD",
        "outputId": "d173acaa-3efc-419c-9d80-d8eb2f5f85cc"
      },
      "source": [
        "l.count(139)"
      ],
      "execution_count": null,
      "outputs": [
        {
          "output_type": "execute_result",
          "data": {
            "text/plain": [
              "2"
            ]
          },
          "metadata": {
            "tags": []
          },
          "execution_count": 29
        }
      ]
    },
    {
      "cell_type": "markdown",
      "metadata": {
        "id": "dJYZSbrZveLW"
      },
      "source": [
        "**26. How to insert an item at a given position?**\n",
        "\n",
        "**Answer:** In code"
      ]
    },
    {
      "cell_type": "code",
      "metadata": {
        "colab": {
          "base_uri": "https://localhost:8080/"
        },
        "id": "fvJizGbyvmoP",
        "outputId": "d832f97f-2330-49a3-e60c-1ad1c8cebb5a"
      },
      "source": [
        "l.insert(10, 224)\n",
        "print(l)"
      ],
      "execution_count": null,
      "outputs": [
        {
          "output_type": "stream",
          "text": [
            "[148, 183, 139, 107, 101, 109, 139, 113, 134, 124, 224]\n"
          ],
          "name": "stdout"
        }
      ]
    },
    {
      "cell_type": "markdown",
      "metadata": {
        "id": "b-8ny5ESvyya"
      },
      "source": [
        "**27. How to check if an item is in the list?**\n",
        "\n",
        "**Answer:** In code"
      ]
    },
    {
      "cell_type": "code",
      "metadata": {
        "colab": {
          "base_uri": "https://localhost:8080/"
        },
        "id": "NWCDADM3v4uJ",
        "outputId": "66950e40-7d14-417f-f23a-7cd08f17035d"
      },
      "source": [
        "i = int(input(\"Enter eleemnt: \"))\n",
        "if i in l:\n",
        "  print(True)\n",
        "else:\n",
        "  print(False)"
      ],
      "execution_count": null,
      "outputs": [
        {
          "output_type": "stream",
          "text": [
            "Enter eleemnt: 183\n",
            "True\n"
          ],
          "name": "stdout"
        }
      ]
    },
    {
      "cell_type": "markdown",
      "metadata": {
        "id": "9f8ojQNrwQNz"
      },
      "source": [
        "**28. How to flatten a list in python?**\n",
        "\n",
        "**Answer:** In code"
      ]
    },
    {
      "cell_type": "code",
      "metadata": {
        "colab": {
          "base_uri": "https://localhost:8080/"
        },
        "id": "1WW7vEm8wh1U",
        "outputId": "81c0faa1-3b85-4ee4-fd7e-9884beaaded9"
      },
      "source": [
        "l = [[1,2,3],[4,5,6],[7,8,9]] \n",
        "flat = []\n",
        "\n",
        "for i in range(len(l)):\n",
        "  for j in range (len(l[i])): \n",
        "    flat.append(l[i][j]) \n",
        "    \n",
        "print(flat)"
      ],
      "execution_count": null,
      "outputs": [
        {
          "output_type": "stream",
          "text": [
            "[1, 2, 3, 4, 5, 6, 7, 8, 9]\n"
          ],
          "name": "stdout"
        }
      ]
    },
    {
      "cell_type": "markdown",
      "metadata": {
        "id": "MV53amtFxzw8"
      },
      "source": [
        "**29. How to convert python list to other data structures like set, tuple, dictionary?**\n",
        "\n",
        "**Answer:** In code"
      ]
    },
    {
      "cell_type": "code",
      "metadata": {
        "colab": {
          "base_uri": "https://localhost:8080/"
        },
        "id": "neBjSByKx89g",
        "outputId": "a48a88c5-b07a-4e44-ced8-744f188968cd"
      },
      "source": [
        "l = [1, 2, 3, 4, 5]\n",
        "t = tuple(l) #in tuple\n",
        "print(t)\n",
        "s = set(l) #in set\n",
        "print(s)\n",
        "d = {n: n*n for n in l} #in dictionary\n",
        "print(d) "
      ],
      "execution_count": null,
      "outputs": [
        {
          "output_type": "stream",
          "text": [
            "(1, 2, 3, 4, 5)\n",
            "{1, 2, 3, 4, 5}\n",
            "{1: 1, 2: 4, 3: 9, 4: 16, 5: 25}\n"
          ],
          "name": "stdout"
        }
      ]
    },
    {
      "cell_type": "markdown",
      "metadata": {
        "id": "jt42twVZzhi8"
      },
      "source": [
        "**30. How to apply a function to all items in the list?**\n",
        "\n",
        "**Answers:** In code"
      ]
    },
    {
      "cell_type": "code",
      "metadata": {
        "colab": {
          "base_uri": "https://localhost:8080/"
        },
        "id": "4H86lugdzqnE",
        "outputId": "5d3ca887-690b-410f-9089-c9171c52c12c"
      },
      "source": [
        "ans = []\n",
        "\n",
        "for x in l:\n",
        "\tdef res(x): return x*2\n",
        "\tans.append(res(x))\n",
        "\n",
        "print(ans)"
      ],
      "execution_count": null,
      "outputs": [
        {
          "output_type": "stream",
          "text": [
            "[2, 4, 6, 8, 10]\n"
          ],
          "name": "stdout"
        }
      ]
    },
    {
      "cell_type": "markdown",
      "metadata": {
        "id": "0eQzhVGe093w"
      },
      "source": [
        ""
      ]
    },
    {
      "cell_type": "markdown",
      "metadata": {
        "id": "qDiL9tQN0-Hn"
      },
      "source": [
        "**31. How to filter the elements based on a function in a python list?**\n",
        "\n",
        "**Answer:** In code"
      ]
    },
    {
      "cell_type": "code",
      "metadata": {
        "colab": {
          "base_uri": "https://localhost:8080/"
        },
        "id": "7siS4B7N08TR",
        "outputId": "49b474b7-8861-4d17-9410-93aa8a45a50a"
      },
      "source": [
        "scores = [70, 60, 80, 90, 50]\n",
        "filtered = filter(lambda score: score >= 70, scores)\n",
        "\n",
        "print(list(filtered))"
      ],
      "execution_count": null,
      "outputs": [
        {
          "output_type": "stream",
          "text": [
            "[70, 80, 90]\n"
          ],
          "name": "stdout"
        }
      ]
    },
    {
      "cell_type": "markdown",
      "metadata": {
        "id": "bRP9nJuN1rSV"
      },
      "source": [
        "**32. How python lists are stored in memory?**\n",
        "\n",
        "**Answer:** Lists, then, are stored in distinct chunks of memory which are linked together with pointers, which enables efficient use of memory generally and doesn't require resizing. ... Arrays, by contrast, are stored in sequential slabs of contiguous memory of fixed size, which enables efficient indexing and random access."
      ]
    }
  ]
}