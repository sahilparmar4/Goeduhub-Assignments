{
  "nbformat": 4,
  "nbformat_minor": 0,
  "metadata": {
    "colab": {
      "name": "Goeduhub_Assignment8.ipynb",
      "provenance": [],
      "mount_file_id": "1qSM0k5d5dvFn6_Dynf2pzujiZR3XOHEW",
      "authorship_tag": "ABX9TyOef8ST92Cn1UXzNz5rK3en",
      "include_colab_link": true
    },
    "kernelspec": {
      "name": "python3",
      "display_name": "Python 3"
    },
    "language_info": {
      "name": "python"
    }
  },
  "cells": [
    {
      "cell_type": "markdown",
      "metadata": {
        "id": "view-in-github",
        "colab_type": "text"
      },
      "source": [
        "<a href=\"https://colab.research.google.com/github/sahilparmar4/Goeduhub-Assignments/blob/main/Goeduhub_Assignment8.ipynb\" target=\"_parent\"><img src=\"https://colab.research.google.com/assets/colab-badge.svg\" alt=\"Open In Colab\"/></a>"
      ]
    },
    {
      "cell_type": "code",
      "metadata": {
        "id": "OImPLFotpn-G"
      },
      "source": [
        "import numpy as np\n",
        "import pandas as pd"
      ],
      "execution_count": null,
      "outputs": []
    },
    {
      "cell_type": "code",
      "metadata": {
        "colab": {
          "base_uri": "https://localhost:8080/",
          "height": 204
        },
        "id": "inofCw29qGew",
        "outputId": "7acce94d-09fc-4c60-f96b-e69235f0a710"
      },
      "source": [
        "startup = pd.read_csv(\"/content/drive/MyDrive/Goeduhub/50_Startups.csv\")\n",
        "startup.head()"
      ],
      "execution_count": null,
      "outputs": [
        {
          "output_type": "execute_result",
          "data": {
            "text/html": [
              "<div>\n",
              "<style scoped>\n",
              "    .dataframe tbody tr th:only-of-type {\n",
              "        vertical-align: middle;\n",
              "    }\n",
              "\n",
              "    .dataframe tbody tr th {\n",
              "        vertical-align: top;\n",
              "    }\n",
              "\n",
              "    .dataframe thead th {\n",
              "        text-align: right;\n",
              "    }\n",
              "</style>\n",
              "<table border=\"1\" class=\"dataframe\">\n",
              "  <thead>\n",
              "    <tr style=\"text-align: right;\">\n",
              "      <th></th>\n",
              "      <th>R&amp;D Spend</th>\n",
              "      <th>Administration</th>\n",
              "      <th>Marketing Spend</th>\n",
              "      <th>State</th>\n",
              "      <th>Profit</th>\n",
              "    </tr>\n",
              "  </thead>\n",
              "  <tbody>\n",
              "    <tr>\n",
              "      <th>0</th>\n",
              "      <td>165349.20</td>\n",
              "      <td>136897.80</td>\n",
              "      <td>471784.10</td>\n",
              "      <td>New York</td>\n",
              "      <td>192261.83</td>\n",
              "    </tr>\n",
              "    <tr>\n",
              "      <th>1</th>\n",
              "      <td>162597.70</td>\n",
              "      <td>151377.59</td>\n",
              "      <td>443898.53</td>\n",
              "      <td>California</td>\n",
              "      <td>191792.06</td>\n",
              "    </tr>\n",
              "    <tr>\n",
              "      <th>2</th>\n",
              "      <td>153441.51</td>\n",
              "      <td>101145.55</td>\n",
              "      <td>407934.54</td>\n",
              "      <td>Florida</td>\n",
              "      <td>191050.39</td>\n",
              "    </tr>\n",
              "    <tr>\n",
              "      <th>3</th>\n",
              "      <td>144372.41</td>\n",
              "      <td>118671.85</td>\n",
              "      <td>383199.62</td>\n",
              "      <td>New York</td>\n",
              "      <td>182901.99</td>\n",
              "    </tr>\n",
              "    <tr>\n",
              "      <th>4</th>\n",
              "      <td>142107.34</td>\n",
              "      <td>91391.77</td>\n",
              "      <td>366168.42</td>\n",
              "      <td>Florida</td>\n",
              "      <td>166187.94</td>\n",
              "    </tr>\n",
              "  </tbody>\n",
              "</table>\n",
              "</div>"
            ],
            "text/plain": [
              "   R&D Spend  Administration  Marketing Spend       State     Profit\n",
              "0  165349.20       136897.80        471784.10    New York  192261.83\n",
              "1  162597.70       151377.59        443898.53  California  191792.06\n",
              "2  153441.51       101145.55        407934.54     Florida  191050.39\n",
              "3  144372.41       118671.85        383199.62    New York  182901.99\n",
              "4  142107.34        91391.77        366168.42     Florida  166187.94"
            ]
          },
          "metadata": {
            "tags": []
          },
          "execution_count": 73
        }
      ]
    },
    {
      "cell_type": "code",
      "metadata": {
        "colab": {
          "base_uri": "https://localhost:8080/"
        },
        "id": "xlKPauMLqeZx",
        "outputId": "8209e5b3-df9d-48c2-fa0e-ebd6111ea26a"
      },
      "source": [
        "startup.info()"
      ],
      "execution_count": null,
      "outputs": [
        {
          "output_type": "stream",
          "text": [
            "<class 'pandas.core.frame.DataFrame'>\n",
            "RangeIndex: 50 entries, 0 to 49\n",
            "Data columns (total 5 columns):\n",
            " #   Column           Non-Null Count  Dtype  \n",
            "---  ------           --------------  -----  \n",
            " 0   R&D Spend        50 non-null     float64\n",
            " 1   Administration   50 non-null     float64\n",
            " 2   Marketing Spend  50 non-null     float64\n",
            " 3   State            50 non-null     object \n",
            " 4   Profit           50 non-null     float64\n",
            "dtypes: float64(4), object(1)\n",
            "memory usage: 2.1+ KB\n"
          ],
          "name": "stdout"
        }
      ]
    },
    {
      "cell_type": "code",
      "metadata": {
        "colab": {
          "base_uri": "https://localhost:8080/",
          "height": 297
        },
        "id": "F_PsOzkZqjvW",
        "outputId": "7afcca41-582b-4f03-fda9-808c863322d5"
      },
      "source": [
        "startup.describe()"
      ],
      "execution_count": null,
      "outputs": [
        {
          "output_type": "execute_result",
          "data": {
            "text/html": [
              "<div>\n",
              "<style scoped>\n",
              "    .dataframe tbody tr th:only-of-type {\n",
              "        vertical-align: middle;\n",
              "    }\n",
              "\n",
              "    .dataframe tbody tr th {\n",
              "        vertical-align: top;\n",
              "    }\n",
              "\n",
              "    .dataframe thead th {\n",
              "        text-align: right;\n",
              "    }\n",
              "</style>\n",
              "<table border=\"1\" class=\"dataframe\">\n",
              "  <thead>\n",
              "    <tr style=\"text-align: right;\">\n",
              "      <th></th>\n",
              "      <th>R&amp;D Spend</th>\n",
              "      <th>Administration</th>\n",
              "      <th>Marketing Spend</th>\n",
              "      <th>Profit</th>\n",
              "    </tr>\n",
              "  </thead>\n",
              "  <tbody>\n",
              "    <tr>\n",
              "      <th>count</th>\n",
              "      <td>50.000000</td>\n",
              "      <td>50.000000</td>\n",
              "      <td>50.000000</td>\n",
              "      <td>50.000000</td>\n",
              "    </tr>\n",
              "    <tr>\n",
              "      <th>mean</th>\n",
              "      <td>73721.615600</td>\n",
              "      <td>121344.639600</td>\n",
              "      <td>211025.097800</td>\n",
              "      <td>112012.639200</td>\n",
              "    </tr>\n",
              "    <tr>\n",
              "      <th>std</th>\n",
              "      <td>45902.256482</td>\n",
              "      <td>28017.802755</td>\n",
              "      <td>122290.310726</td>\n",
              "      <td>40306.180338</td>\n",
              "    </tr>\n",
              "    <tr>\n",
              "      <th>min</th>\n",
              "      <td>0.000000</td>\n",
              "      <td>51283.140000</td>\n",
              "      <td>0.000000</td>\n",
              "      <td>14681.400000</td>\n",
              "    </tr>\n",
              "    <tr>\n",
              "      <th>25%</th>\n",
              "      <td>39936.370000</td>\n",
              "      <td>103730.875000</td>\n",
              "      <td>129300.132500</td>\n",
              "      <td>90138.902500</td>\n",
              "    </tr>\n",
              "    <tr>\n",
              "      <th>50%</th>\n",
              "      <td>73051.080000</td>\n",
              "      <td>122699.795000</td>\n",
              "      <td>212716.240000</td>\n",
              "      <td>107978.190000</td>\n",
              "    </tr>\n",
              "    <tr>\n",
              "      <th>75%</th>\n",
              "      <td>101602.800000</td>\n",
              "      <td>144842.180000</td>\n",
              "      <td>299469.085000</td>\n",
              "      <td>139765.977500</td>\n",
              "    </tr>\n",
              "    <tr>\n",
              "      <th>max</th>\n",
              "      <td>165349.200000</td>\n",
              "      <td>182645.560000</td>\n",
              "      <td>471784.100000</td>\n",
              "      <td>192261.830000</td>\n",
              "    </tr>\n",
              "  </tbody>\n",
              "</table>\n",
              "</div>"
            ],
            "text/plain": [
              "           R&D Spend  Administration  Marketing Spend         Profit\n",
              "count      50.000000       50.000000        50.000000      50.000000\n",
              "mean    73721.615600   121344.639600    211025.097800  112012.639200\n",
              "std     45902.256482    28017.802755    122290.310726   40306.180338\n",
              "min         0.000000    51283.140000         0.000000   14681.400000\n",
              "25%     39936.370000   103730.875000    129300.132500   90138.902500\n",
              "50%     73051.080000   122699.795000    212716.240000  107978.190000\n",
              "75%    101602.800000   144842.180000    299469.085000  139765.977500\n",
              "max    165349.200000   182645.560000    471784.100000  192261.830000"
            ]
          },
          "metadata": {
            "tags": []
          },
          "execution_count": 75
        }
      ]
    },
    {
      "cell_type": "code",
      "metadata": {
        "colab": {
          "base_uri": "https://localhost:8080/",
          "height": 173
        },
        "id": "gMV7nxb5qoez",
        "outputId": "51b83f07-98a3-4739-8074-664b0ccef6cb"
      },
      "source": [
        "startup.corr()"
      ],
      "execution_count": null,
      "outputs": [
        {
          "output_type": "execute_result",
          "data": {
            "text/html": [
              "<div>\n",
              "<style scoped>\n",
              "    .dataframe tbody tr th:only-of-type {\n",
              "        vertical-align: middle;\n",
              "    }\n",
              "\n",
              "    .dataframe tbody tr th {\n",
              "        vertical-align: top;\n",
              "    }\n",
              "\n",
              "    .dataframe thead th {\n",
              "        text-align: right;\n",
              "    }\n",
              "</style>\n",
              "<table border=\"1\" class=\"dataframe\">\n",
              "  <thead>\n",
              "    <tr style=\"text-align: right;\">\n",
              "      <th></th>\n",
              "      <th>R&amp;D Spend</th>\n",
              "      <th>Administration</th>\n",
              "      <th>Marketing Spend</th>\n",
              "      <th>Profit</th>\n",
              "    </tr>\n",
              "  </thead>\n",
              "  <tbody>\n",
              "    <tr>\n",
              "      <th>R&amp;D Spend</th>\n",
              "      <td>1.000000</td>\n",
              "      <td>0.241955</td>\n",
              "      <td>0.724248</td>\n",
              "      <td>0.972900</td>\n",
              "    </tr>\n",
              "    <tr>\n",
              "      <th>Administration</th>\n",
              "      <td>0.241955</td>\n",
              "      <td>1.000000</td>\n",
              "      <td>-0.032154</td>\n",
              "      <td>0.200717</td>\n",
              "    </tr>\n",
              "    <tr>\n",
              "      <th>Marketing Spend</th>\n",
              "      <td>0.724248</td>\n",
              "      <td>-0.032154</td>\n",
              "      <td>1.000000</td>\n",
              "      <td>0.747766</td>\n",
              "    </tr>\n",
              "    <tr>\n",
              "      <th>Profit</th>\n",
              "      <td>0.972900</td>\n",
              "      <td>0.200717</td>\n",
              "      <td>0.747766</td>\n",
              "      <td>1.000000</td>\n",
              "    </tr>\n",
              "  </tbody>\n",
              "</table>\n",
              "</div>"
            ],
            "text/plain": [
              "                 R&D Spend  Administration  Marketing Spend    Profit\n",
              "R&D Spend         1.000000        0.241955         0.724248  0.972900\n",
              "Administration    0.241955        1.000000        -0.032154  0.200717\n",
              "Marketing Spend   0.724248       -0.032154         1.000000  0.747766\n",
              "Profit            0.972900        0.200717         0.747766  1.000000"
            ]
          },
          "metadata": {
            "tags": []
          },
          "execution_count": 76
        }
      ]
    },
    {
      "cell_type": "code",
      "metadata": {
        "colab": {
          "base_uri": "https://localhost:8080/"
        },
        "id": "euQk2b9Mq0-s",
        "outputId": "78f73a15-6f29-4f0c-a90b-67812e230432"
      },
      "source": [
        "startup.isnull().sum()"
      ],
      "execution_count": null,
      "outputs": [
        {
          "output_type": "execute_result",
          "data": {
            "text/plain": [
              "R&D Spend          0\n",
              "Administration     0\n",
              "Marketing Spend    0\n",
              "State              0\n",
              "Profit             0\n",
              "dtype: int64"
            ]
          },
          "metadata": {
            "tags": []
          },
          "execution_count": 77
        }
      ]
    },
    {
      "cell_type": "code",
      "metadata": {
        "colab": {
          "base_uri": "https://localhost:8080/"
        },
        "id": "aU8Np4i5ywsR",
        "outputId": "dc23dcd0-739a-479c-8589-de2548800cb6"
      },
      "source": [
        "startup[\"State\"].unique()"
      ],
      "execution_count": null,
      "outputs": [
        {
          "output_type": "execute_result",
          "data": {
            "text/plain": [
              "array(['New York', 'California', 'Florida'], dtype=object)"
            ]
          },
          "metadata": {
            "tags": []
          },
          "execution_count": 78
        }
      ]
    },
    {
      "cell_type": "code",
      "metadata": {
        "id": "VzoRS7O6y3jO"
      },
      "source": [
        "startup[\"State\"] = startup[\"State\"].replace([\"New York\"], 1)\n",
        "startup[\"State\"] = startup[\"State\"].replace([\"California\"], 2)\n",
        "startup[\"State\"] = startup[\"State\"].replace([\"Florida\"], 3)"
      ],
      "execution_count": null,
      "outputs": []
    },
    {
      "cell_type": "code",
      "metadata": {
        "colab": {
          "base_uri": "https://localhost:8080/"
        },
        "id": "18J94Uh-q49Z",
        "outputId": "aefe1219-89a9-450e-882a-f91201516cff"
      },
      "source": [
        "features = startup[[\"R&D Spend\",\t\"Administration\",\t\"Marketing Spend\", \"State\"]]\n",
        "features.head()\n",
        "features.shape"
      ],
      "execution_count": null,
      "outputs": [
        {
          "output_type": "execute_result",
          "data": {
            "text/plain": [
              "(50, 4)"
            ]
          },
          "metadata": {
            "tags": []
          },
          "execution_count": 86
        }
      ]
    },
    {
      "cell_type": "code",
      "metadata": {
        "colab": {
          "base_uri": "https://localhost:8080/"
        },
        "id": "xpKhnC_Sq5EX",
        "outputId": "21252e28-2de3-42f5-8bbf-a84b1ac1a207"
      },
      "source": [
        "target = startup[[\"Profit\"]]\n",
        "target.head()\n",
        "target.shape "
      ],
      "execution_count": null,
      "outputs": [
        {
          "output_type": "execute_result",
          "data": {
            "text/plain": [
              "(50, 1)"
            ]
          },
          "metadata": {
            "tags": []
          },
          "execution_count": 87
        }
      ]
    },
    {
      "cell_type": "code",
      "metadata": {
        "colab": {
          "base_uri": "https://localhost:8080/"
        },
        "id": "j5Qw1ETZr_ej",
        "outputId": "03e29d71-2351-4084-9eb6-14921f83cded"
      },
      "source": [
        "from sklearn.model_selection import train_test_split\n",
        "\n",
        "xtrain, xtest, ytrain, ytest = train_test_split(features, target, test_size = 0.2, random_state = 0)\n",
        "print(xtrain)\n",
        "print(xtest)\n",
        "print(ytrain)\n",
        "print(ytest)\n",
        "print(xtrain.shape)\n",
        "print(xtest.shape)\n",
        "print(ytrain.shape)\n",
        "print(ytest.shape)"
      ],
      "execution_count": null,
      "outputs": [
        {
          "output_type": "stream",
          "text": [
            "    R&D Spend  Administration  Marketing Spend  State\n",
            "33   55493.95       103057.49        214634.81      3\n",
            "35   46014.02        85047.44        205517.64      1\n",
            "26   75328.87       144135.98        134050.07      3\n",
            "34   46426.07       157693.92        210797.67      2\n",
            "18   91749.16       114175.79        294919.57      3\n",
            "7   130298.13       145530.06        323876.68      3\n",
            "14  119943.24       156547.42        256512.92      3\n",
            "45    1000.23       124153.04          1903.93      1\n",
            "48     542.05        51743.15             0.00      1\n",
            "29   65605.48       153032.06        107138.38      1\n",
            "15  114523.61       122616.84        261776.23      1\n",
            "30   61994.48       115641.28         91131.24      3\n",
            "32   63408.86       129219.61         46085.25      2\n",
            "16   78013.11       121597.55        264346.06      2\n",
            "42   23640.93        96189.63        148001.11      2\n",
            "20   76253.86       113867.30        298664.47      2\n",
            "43   15505.73       127382.30         35534.17      1\n",
            "8   120542.52       148718.95        311613.29      1\n",
            "13   91992.39       135495.07        252664.93      2\n",
            "25   64664.71       139553.16        137962.62      2\n",
            "5   131876.90        99814.71        362861.36      1\n",
            "17   94657.16       145077.58        282574.31      1\n",
            "40   28754.33       118546.05        172795.67      2\n",
            "49       0.00       116983.80         45173.06      2\n",
            "1   162597.70       151377.59        443898.53      2\n",
            "12   93863.75       127320.38        249839.44      3\n",
            "37   44069.95        51283.14        197029.42      2\n",
            "24   77044.01        99281.34        140574.81      1\n",
            "6   134615.46       147198.87        127716.82      2\n",
            "23   67532.53       105751.03        304768.73      3\n",
            "36   28663.76       127056.21        201126.82      3\n",
            "21   78389.47       153773.43        299737.29      1\n",
            "19   86419.70       153514.11             0.00      1\n",
            "9   123334.88       108679.17        304981.62      2\n",
            "39   38558.51        82982.09        174999.30      2\n",
            "46    1315.46       115816.21        297114.46      3\n",
            "3   144372.41       118671.85        383199.62      1\n",
            "0   165349.20       136897.80        471784.10      1\n",
            "47       0.00       135426.92             0.00      2\n",
            "44   22177.74       154806.14         28334.72      2\n",
            "    R&D Spend  Administration  Marketing Spend  State\n",
            "28   66051.52       182645.56        118148.20      3\n",
            "11  100671.96        91790.61        249744.55      2\n",
            "10  101913.08       110594.11        229160.95      3\n",
            "41   27892.92        84710.77        164470.71      3\n",
            "2   153441.51       101145.55        407934.54      3\n",
            "27   72107.60       127864.55        353183.81      1\n",
            "38   20229.59        65947.93        185265.10      1\n",
            "31   61136.38       152701.92         88218.23      1\n",
            "22   73994.56       122782.75        303319.26      3\n",
            "4   142107.34        91391.77        366168.42      3\n",
            "       Profit\n",
            "33   96778.92\n",
            "35   96479.51\n",
            "26  105733.54\n",
            "34   96712.80\n",
            "18  124266.90\n",
            "7   155752.60\n",
            "14  132602.65\n",
            "45   64926.08\n",
            "48   35673.41\n",
            "29  101004.64\n",
            "15  129917.04\n",
            "30   99937.59\n",
            "32   97427.84\n",
            "16  126992.93\n",
            "42   71498.49\n",
            "20  118474.03\n",
            "43   69758.98\n",
            "8   152211.77\n",
            "13  134307.35\n",
            "25  107404.34\n",
            "5   156991.12\n",
            "17  125370.37\n",
            "40   78239.91\n",
            "49   14681.40\n",
            "1   191792.06\n",
            "12  141585.52\n",
            "37   89949.14\n",
            "24  108552.04\n",
            "6   156122.51\n",
            "23  108733.99\n",
            "36   90708.19\n",
            "21  111313.02\n",
            "19  122776.86\n",
            "9   149759.96\n",
            "39   81005.76\n",
            "46   49490.75\n",
            "3   182901.99\n",
            "0   192261.83\n",
            "47   42559.73\n",
            "44   65200.33\n",
            "       Profit\n",
            "28  103282.38\n",
            "11  144259.40\n",
            "10  146121.95\n",
            "41   77798.83\n",
            "2   191050.39\n",
            "27  105008.31\n",
            "38   81229.06\n",
            "31   97483.56\n",
            "22  110352.25\n",
            "4   166187.94\n",
            "(40, 4)\n",
            "(10, 4)\n",
            "(40, 1)\n",
            "(10, 1)\n"
          ],
          "name": "stdout"
        }
      ]
    },
    {
      "cell_type": "code",
      "metadata": {
        "colab": {
          "base_uri": "https://localhost:8080/"
        },
        "id": "d2gTRWOjs3Ix",
        "outputId": "29c50afb-5729-4c91-c9ee-d10276edc6fc"
      },
      "source": [
        "from sklearn.linear_model import LinearRegression\n",
        "\n",
        "model = LinearRegression()\n",
        "model"
      ],
      "execution_count": null,
      "outputs": [
        {
          "output_type": "execute_result",
          "data": {
            "text/plain": [
              "LinearRegression(copy_X=True, fit_intercept=True, n_jobs=None, normalize=False)"
            ]
          },
          "metadata": {
            "tags": []
          },
          "execution_count": 89
        }
      ]
    },
    {
      "cell_type": "code",
      "metadata": {
        "colab": {
          "base_uri": "https://localhost:8080/"
        },
        "id": "QOu2wZbTwubT",
        "outputId": "1349279c-0d5d-49de-dd37-49b1e1bc2516"
      },
      "source": [
        "model.fit(xtrain, ytrain)"
      ],
      "execution_count": null,
      "outputs": [
        {
          "output_type": "execute_result",
          "data": {
            "text/plain": [
              "LinearRegression(copy_X=True, fit_intercept=True, n_jobs=None, normalize=False)"
            ]
          },
          "metadata": {
            "tags": []
          },
          "execution_count": 90
        }
      ]
    },
    {
      "cell_type": "code",
      "metadata": {
        "colab": {
          "base_uri": "https://localhost:8080/"
        },
        "id": "DhwkIK0SxYhF",
        "outputId": "9640bb55-9986-4165-84c5-3ae9474df8dd"
      },
      "source": [
        "ypred = model.predict(xtest)\n",
        "ypred"
      ],
      "execution_count": null,
      "outputs": [
        {
          "output_type": "execute_result",
          "data": {
            "text/plain": [
              "array([[103083.22418255],\n",
              "       [132499.19098469],\n",
              "       [132504.92013514],\n",
              "       [ 72044.22079157],\n",
              "       [178578.88804813],\n",
              "       [116196.18897916],\n",
              "       [ 67901.09868183],\n",
              "       [ 98843.64614762],\n",
              "       [114025.15059486],\n",
              "       [167965.96780569]])"
            ]
          },
          "metadata": {
            "tags": []
          },
          "execution_count": 91
        }
      ]
    },
    {
      "cell_type": "code",
      "metadata": {
        "colab": {
          "base_uri": "https://localhost:8080/"
        },
        "id": "7BJpVl51yGHK",
        "outputId": "6d7d0367-8e0b-4f02-9272-e7daf580fed2"
      },
      "source": [
        "from sklearn.metrics import r2_score\n",
        "\n",
        "accuracy = r2_score(ytest, ypred)\n",
        "accuracy*100"
      ],
      "execution_count": null,
      "outputs": [
        {
          "output_type": "execute_result",
          "data": {
            "text/plain": [
              "93.48088470484865"
            ]
          },
          "metadata": {
            "tags": []
          },
          "execution_count": 92
        }
      ]
    }
  ]
}